{
 "cells": [
  {
   "cell_type": "code",
   "execution_count": 1,
   "metadata": {},
   "outputs": [],
   "source": [
    "import pandas as pd\n",
    "import numpy as np\n",
    "import matplotlib.pyplot as plt\n",
    "import seaborn as sns\n",
    "from sklearn.preprocessing import StandardScaler\n",
    "from sklearn.decomposition import PCA\n",
    "from sklearn.feature_selection import SelectFromModel\n",
    "from sklearn.model_selection import train_test_split\n",
    "from sklearn.metrics import confusion_matrix\n",
    "import datetime as dt\n",
    "from scipy import stats\n",
    "from sklearn import preprocessing\n",
    "from sklearn.linear_model import LinearRegression"
   ]
  },
  {
   "cell_type": "code",
   "execution_count": 2,
   "metadata": {},
   "outputs": [
    {
     "data": {
      "text/html": [
       "<div>\n",
       "<style scoped>\n",
       "    .dataframe tbody tr th:only-of-type {\n",
       "        vertical-align: middle;\n",
       "    }\n",
       "\n",
       "    .dataframe tbody tr th {\n",
       "        vertical-align: top;\n",
       "    }\n",
       "\n",
       "    .dataframe thead th {\n",
       "        text-align: right;\n",
       "    }\n",
       "</style>\n",
       "<table border=\"1\" class=\"dataframe\">\n",
       "  <thead>\n",
       "    <tr style=\"text-align: right;\">\n",
       "      <th></th>\n",
       "      <th>date</th>\n",
       "      <th>Boston</th>\n",
       "    </tr>\n",
       "  </thead>\n",
       "  <tbody>\n",
       "    <tr>\n",
       "      <th>0</th>\n",
       "      <td>2012-10-01</td>\n",
       "      <td>NaN</td>\n",
       "    </tr>\n",
       "    <tr>\n",
       "      <th>1</th>\n",
       "      <td>2012-10-01</td>\n",
       "      <td>68.0</td>\n",
       "    </tr>\n",
       "    <tr>\n",
       "      <th>2</th>\n",
       "      <td>2012-10-01</td>\n",
       "      <td>68.0</td>\n",
       "    </tr>\n",
       "    <tr>\n",
       "      <th>3</th>\n",
       "      <td>2012-10-01</td>\n",
       "      <td>68.0</td>\n",
       "    </tr>\n",
       "    <tr>\n",
       "      <th>4</th>\n",
       "      <td>2012-10-01</td>\n",
       "      <td>68.0</td>\n",
       "    </tr>\n",
       "  </tbody>\n",
       "</table>\n",
       "</div>"
      ],
      "text/plain": [
       "         date  Boston\n",
       "0  2012-10-01     NaN\n",
       "1  2012-10-01    68.0\n",
       "2  2012-10-01    68.0\n",
       "3  2012-10-01    68.0\n",
       "4  2012-10-01    68.0"
      ]
     },
     "execution_count": 2,
     "metadata": {},
     "output_type": "execute_result"
    }
   ],
   "source": [
    "humidity=pd.read_csv(\"/Users/rudranibhadra/Downloads/historical-hourly-weather-data/humidity.csv\")\n",
    "humidity['datetime'] = pd.to_datetime(humidity['datetime'])\n",
    "humidity['date'] = humidity['datetime'].dt.date\n",
    "#humidity.head()\n",
    "bo_humidity=humidity.loc[:,[\"date\",\"Boston\"]]\n",
    "bo_humidity.head()"
   ]
  },
  {
   "cell_type": "code",
   "execution_count": 3,
   "metadata": {},
   "outputs": [
    {
     "data": {
      "text/plain": [
       "date        0\n",
       "Boston    449\n",
       "dtype: int64"
      ]
     },
     "execution_count": 3,
     "metadata": {},
     "output_type": "execute_result"
    }
   ],
   "source": [
    "bo_humidity.isnull().sum()"
   ]
  },
  {
   "cell_type": "code",
   "execution_count": 5,
   "metadata": {},
   "outputs": [
    {
     "data": {
      "text/html": [
       "<div>\n",
       "<style scoped>\n",
       "    .dataframe tbody tr th:only-of-type {\n",
       "        vertical-align: middle;\n",
       "    }\n",
       "\n",
       "    .dataframe tbody tr th {\n",
       "        vertical-align: top;\n",
       "    }\n",
       "\n",
       "    .dataframe thead th {\n",
       "        text-align: right;\n",
       "    }\n",
       "</style>\n",
       "<table border=\"1\" class=\"dataframe\">\n",
       "  <thead>\n",
       "    <tr style=\"text-align: right;\">\n",
       "      <th></th>\n",
       "      <th>INCIDENT_NUMBER</th>\n",
       "      <th>OFFENSE_CODE</th>\n",
       "      <th>OFFENSE_CODE_GROUP</th>\n",
       "      <th>OFFENSE_DESCRIPTION</th>\n",
       "      <th>DISTRICT</th>\n",
       "      <th>REPORTING_AREA</th>\n",
       "      <th>SHOOTING</th>\n",
       "      <th>OCCURRED_ON_DATE</th>\n",
       "      <th>YEAR</th>\n",
       "      <th>MONTH</th>\n",
       "      <th>DAY_OF_WEEK</th>\n",
       "      <th>HOUR</th>\n",
       "      <th>UCR_PART</th>\n",
       "      <th>STREET</th>\n",
       "      <th>Lat</th>\n",
       "      <th>Long</th>\n",
       "      <th>Location</th>\n",
       "      <th>date</th>\n",
       "    </tr>\n",
       "  </thead>\n",
       "  <tbody>\n",
       "    <tr>\n",
       "      <th>0</th>\n",
       "      <td>I182080058</td>\n",
       "      <td>2403</td>\n",
       "      <td>Disorderly Conduct</td>\n",
       "      <td>DISTURBING THE PEACE</td>\n",
       "      <td>E18</td>\n",
       "      <td>495</td>\n",
       "      <td>NaN</td>\n",
       "      <td>2018-10-03 20:13:00</td>\n",
       "      <td>2018</td>\n",
       "      <td>10</td>\n",
       "      <td>Wednesday</td>\n",
       "      <td>20</td>\n",
       "      <td>Part Two</td>\n",
       "      <td>ARLINGTON ST</td>\n",
       "      <td>42.262608</td>\n",
       "      <td>-71.121186</td>\n",
       "      <td>(42.26260773, -71.12118637)</td>\n",
       "      <td>2018-10-03</td>\n",
       "    </tr>\n",
       "    <tr>\n",
       "      <th>1</th>\n",
       "      <td>I182080053</td>\n",
       "      <td>3201</td>\n",
       "      <td>Property Lost</td>\n",
       "      <td>PROPERTY - LOST</td>\n",
       "      <td>D14</td>\n",
       "      <td>795</td>\n",
       "      <td>NaN</td>\n",
       "      <td>2018-08-30 20:00:00</td>\n",
       "      <td>2018</td>\n",
       "      <td>8</td>\n",
       "      <td>Thursday</td>\n",
       "      <td>20</td>\n",
       "      <td>Part Three</td>\n",
       "      <td>ALLSTON ST</td>\n",
       "      <td>42.352111</td>\n",
       "      <td>-71.135311</td>\n",
       "      <td>(42.35211146, -71.13531147)</td>\n",
       "      <td>2018-08-30</td>\n",
       "    </tr>\n",
       "    <tr>\n",
       "      <th>2</th>\n",
       "      <td>I182080052</td>\n",
       "      <td>2647</td>\n",
       "      <td>Other</td>\n",
       "      <td>THREATS TO DO BODILY HARM</td>\n",
       "      <td>B2</td>\n",
       "      <td>329</td>\n",
       "      <td>NaN</td>\n",
       "      <td>2018-10-03 19:20:00</td>\n",
       "      <td>2018</td>\n",
       "      <td>10</td>\n",
       "      <td>Wednesday</td>\n",
       "      <td>19</td>\n",
       "      <td>Part Two</td>\n",
       "      <td>DEVON ST</td>\n",
       "      <td>42.308126</td>\n",
       "      <td>-71.076930</td>\n",
       "      <td>(42.30812619, -71.07692974)</td>\n",
       "      <td>2018-10-03</td>\n",
       "    </tr>\n",
       "    <tr>\n",
       "      <th>3</th>\n",
       "      <td>I182080051</td>\n",
       "      <td>413</td>\n",
       "      <td>Aggravated Assault</td>\n",
       "      <td>ASSAULT - AGGRAVATED - BATTERY</td>\n",
       "      <td>A1</td>\n",
       "      <td>92</td>\n",
       "      <td>NaN</td>\n",
       "      <td>2018-10-03 20:00:00</td>\n",
       "      <td>2018</td>\n",
       "      <td>10</td>\n",
       "      <td>Wednesday</td>\n",
       "      <td>20</td>\n",
       "      <td>Part One</td>\n",
       "      <td>CAMBRIDGE ST</td>\n",
       "      <td>42.359454</td>\n",
       "      <td>-71.059648</td>\n",
       "      <td>(42.35945371, -71.05964817)</td>\n",
       "      <td>2018-10-03</td>\n",
       "    </tr>\n",
       "    <tr>\n",
       "      <th>4</th>\n",
       "      <td>I182080050</td>\n",
       "      <td>3122</td>\n",
       "      <td>Aircraft</td>\n",
       "      <td>AIRCRAFT INCIDENTS</td>\n",
       "      <td>A7</td>\n",
       "      <td>36</td>\n",
       "      <td>NaN</td>\n",
       "      <td>2018-10-03 20:49:00</td>\n",
       "      <td>2018</td>\n",
       "      <td>10</td>\n",
       "      <td>Wednesday</td>\n",
       "      <td>20</td>\n",
       "      <td>Part Three</td>\n",
       "      <td>PRESCOTT ST</td>\n",
       "      <td>42.375258</td>\n",
       "      <td>-71.024663</td>\n",
       "      <td>(42.37525782, -71.02466343)</td>\n",
       "      <td>2018-10-03</td>\n",
       "    </tr>\n",
       "  </tbody>\n",
       "</table>\n",
       "</div>"
      ],
      "text/plain": [
       "  INCIDENT_NUMBER  OFFENSE_CODE  OFFENSE_CODE_GROUP  \\\n",
       "0      I182080058          2403  Disorderly Conduct   \n",
       "1      I182080053          3201       Property Lost   \n",
       "2      I182080052          2647               Other   \n",
       "3      I182080051           413  Aggravated Assault   \n",
       "4      I182080050          3122            Aircraft   \n",
       "\n",
       "              OFFENSE_DESCRIPTION DISTRICT REPORTING_AREA SHOOTING  \\\n",
       "0            DISTURBING THE PEACE      E18            495      NaN   \n",
       "1                 PROPERTY - LOST      D14            795      NaN   \n",
       "2       THREATS TO DO BODILY HARM       B2            329      NaN   \n",
       "3  ASSAULT - AGGRAVATED - BATTERY       A1             92      NaN   \n",
       "4              AIRCRAFT INCIDENTS       A7             36      NaN   \n",
       "\n",
       "     OCCURRED_ON_DATE  YEAR  MONTH DAY_OF_WEEK  HOUR    UCR_PART  \\\n",
       "0 2018-10-03 20:13:00  2018     10   Wednesday    20    Part Two   \n",
       "1 2018-08-30 20:00:00  2018      8    Thursday    20  Part Three   \n",
       "2 2018-10-03 19:20:00  2018     10   Wednesday    19    Part Two   \n",
       "3 2018-10-03 20:00:00  2018     10   Wednesday    20    Part One   \n",
       "4 2018-10-03 20:49:00  2018     10   Wednesday    20  Part Three   \n",
       "\n",
       "         STREET        Lat       Long                     Location        date  \n",
       "0  ARLINGTON ST  42.262608 -71.121186  (42.26260773, -71.12118637)  2018-10-03  \n",
       "1    ALLSTON ST  42.352111 -71.135311  (42.35211146, -71.13531147)  2018-08-30  \n",
       "2      DEVON ST  42.308126 -71.076930  (42.30812619, -71.07692974)  2018-10-03  \n",
       "3  CAMBRIDGE ST  42.359454 -71.059648  (42.35945371, -71.05964817)  2018-10-03  \n",
       "4   PRESCOTT ST  42.375258 -71.024663  (42.37525782, -71.02466343)  2018-10-03  "
      ]
     },
     "execution_count": 5,
     "metadata": {},
     "output_type": "execute_result"
    }
   ],
   "source": [
    "bo_crime=pd.read_csv(\"/Users/rudranibhadra/Downloads/crime.csv\")\n",
    "bo_crime['OCCURRED_ON_DATE'] = pd.to_datetime(bo_crime['OCCURRED_ON_DATE'])\n",
    "bo_crime['date'] = bo_crime['OCCURRED_ON_DATE'].dt.date\n",
    "bo_crime.head()\n",
    "#with open('/Users/rudranibhadra/Downloads/crime.csv', 'r', newline='', encoding='utf-8') as csvfile:\n",
    "#ny_crime = ny_crime.dropna(subset=['CMPLNT_FR_DT'])\n",
    "#ny_crime.isnull().sum"
   ]
  },
  {
   "cell_type": "code",
   "execution_count": 6,
   "metadata": {},
   "outputs": [
    {
     "data": {
      "text/html": [
       "<div>\n",
       "<style scoped>\n",
       "    .dataframe tbody tr th:only-of-type {\n",
       "        vertical-align: middle;\n",
       "    }\n",
       "\n",
       "    .dataframe tbody tr th {\n",
       "        vertical-align: top;\n",
       "    }\n",
       "\n",
       "    .dataframe thead th {\n",
       "        text-align: right;\n",
       "    }\n",
       "</style>\n",
       "<table border=\"1\" class=\"dataframe\">\n",
       "  <thead>\n",
       "    <tr style=\"text-align: right;\">\n",
       "      <th></th>\n",
       "      <th>date</th>\n",
       "      <th>Boston</th>\n",
       "    </tr>\n",
       "  </thead>\n",
       "  <tbody>\n",
       "    <tr>\n",
       "      <th>0</th>\n",
       "      <td>2012-10-01</td>\n",
       "      <td>NaN</td>\n",
       "    </tr>\n",
       "    <tr>\n",
       "      <th>1</th>\n",
       "      <td>2012-10-01</td>\n",
       "      <td>287.170000</td>\n",
       "    </tr>\n",
       "    <tr>\n",
       "      <th>2</th>\n",
       "      <td>2012-10-01</td>\n",
       "      <td>287.186092</td>\n",
       "    </tr>\n",
       "    <tr>\n",
       "      <th>3</th>\n",
       "      <td>2012-10-01</td>\n",
       "      <td>287.231672</td>\n",
       "    </tr>\n",
       "    <tr>\n",
       "      <th>4</th>\n",
       "      <td>2012-10-01</td>\n",
       "      <td>287.277251</td>\n",
       "    </tr>\n",
       "  </tbody>\n",
       "</table>\n",
       "</div>"
      ],
      "text/plain": [
       "         date      Boston\n",
       "0  2012-10-01         NaN\n",
       "1  2012-10-01  287.170000\n",
       "2  2012-10-01  287.186092\n",
       "3  2012-10-01  287.231672\n",
       "4  2012-10-01  287.277251"
      ]
     },
     "execution_count": 6,
     "metadata": {},
     "output_type": "execute_result"
    }
   ],
   "source": [
    "temperature=pd.read_csv(\"/Users/rudranibhadra/Downloads/historical-hourly-weather-data/temperature.csv\")\n",
    "temperature['datetime'] = pd.to_datetime(temperature['datetime'])\n",
    "temperature['date'] = temperature['datetime'].dt.date\n",
    "#temperature.head()\n",
    "bo_temp=temperature.loc[:,[\"date\",\"Boston\"]]\n",
    "bo_temp.head()"
   ]
  },
  {
   "cell_type": "code",
   "execution_count": 7,
   "metadata": {},
   "outputs": [
    {
     "data": {
      "text/plain": [
       "date      0\n",
       "Boston    3\n",
       "dtype: int64"
      ]
     },
     "execution_count": 7,
     "metadata": {},
     "output_type": "execute_result"
    }
   ],
   "source": [
    "bo_temp.isnull().sum()"
   ]
  },
  {
   "cell_type": "code",
   "execution_count": 8,
   "metadata": {},
   "outputs": [],
   "source": [
    "bo_temp['Boston'] = bo_temp['Boston'].fillna(bo_temp.groupby('date')['Boston'].transform('mean'))"
   ]
  },
  {
   "cell_type": "code",
   "execution_count": 9,
   "metadata": {},
   "outputs": [
    {
     "data": {
      "text/plain": [
       "date      0\n",
       "Boston    0\n",
       "dtype: int64"
      ]
     },
     "execution_count": 9,
     "metadata": {},
     "output_type": "execute_result"
    }
   ],
   "source": [
    "bo_temp.isnull().sum()"
   ]
  },
  {
   "cell_type": "code",
   "execution_count": 10,
   "metadata": {},
   "outputs": [],
   "source": [
    "df1 = bo_crime.groupby(bo_crime['date']).size().reset_index(name='No of crimes')"
   ]
  },
  {
   "cell_type": "code",
   "execution_count": 11,
   "metadata": {},
   "outputs": [
    {
     "data": {
      "text/html": [
       "<div>\n",
       "<style scoped>\n",
       "    .dataframe tbody tr th:only-of-type {\n",
       "        vertical-align: middle;\n",
       "    }\n",
       "\n",
       "    .dataframe tbody tr th {\n",
       "        vertical-align: top;\n",
       "    }\n",
       "\n",
       "    .dataframe thead th {\n",
       "        text-align: right;\n",
       "    }\n",
       "</style>\n",
       "<table border=\"1\" class=\"dataframe\">\n",
       "  <thead>\n",
       "    <tr style=\"text-align: right;\">\n",
       "      <th></th>\n",
       "      <th>date</th>\n",
       "      <th>No of crimes</th>\n",
       "    </tr>\n",
       "  </thead>\n",
       "  <tbody>\n",
       "    <tr>\n",
       "      <th>0</th>\n",
       "      <td>2015-06-15</td>\n",
       "      <td>249</td>\n",
       "    </tr>\n",
       "    <tr>\n",
       "      <th>1</th>\n",
       "      <td>2015-06-16</td>\n",
       "      <td>249</td>\n",
       "    </tr>\n",
       "    <tr>\n",
       "      <th>2</th>\n",
       "      <td>2015-06-17</td>\n",
       "      <td>234</td>\n",
       "    </tr>\n",
       "    <tr>\n",
       "      <th>3</th>\n",
       "      <td>2015-06-18</td>\n",
       "      <td>294</td>\n",
       "    </tr>\n",
       "    <tr>\n",
       "      <th>4</th>\n",
       "      <td>2015-06-19</td>\n",
       "      <td>289</td>\n",
       "    </tr>\n",
       "  </tbody>\n",
       "</table>\n",
       "</div>"
      ],
      "text/plain": [
       "         date  No of crimes\n",
       "0  2015-06-15           249\n",
       "1  2015-06-16           249\n",
       "2  2015-06-17           234\n",
       "3  2015-06-18           294\n",
       "4  2015-06-19           289"
      ]
     },
     "execution_count": 11,
     "metadata": {},
     "output_type": "execute_result"
    }
   ],
   "source": [
    "df1.head()"
   ]
  },
  {
   "cell_type": "code",
   "execution_count": 12,
   "metadata": {},
   "outputs": [],
   "source": [
    "data=pd.merge(bo_temp,df1, on='date')"
   ]
  },
  {
   "cell_type": "code",
   "execution_count": 13,
   "metadata": {},
   "outputs": [
    {
     "data": {
      "text/plain": [
       "date            0\n",
       "Boston          0\n",
       "No of crimes    0\n",
       "dtype: int64"
      ]
     },
     "execution_count": 13,
     "metadata": {},
     "output_type": "execute_result"
    }
   ],
   "source": [
    "data.isnull().sum()"
   ]
  },
  {
   "cell_type": "code",
   "execution_count": 14,
   "metadata": {},
   "outputs": [],
   "source": [
    "data.rename(columns={'Boston': 'Avg Temperature'}, inplace=True)"
   ]
  },
  {
   "cell_type": "code",
   "execution_count": 15,
   "metadata": {},
   "outputs": [
    {
     "data": {
      "text/html": [
       "<div>\n",
       "<style scoped>\n",
       "    .dataframe tbody tr th:only-of-type {\n",
       "        vertical-align: middle;\n",
       "    }\n",
       "\n",
       "    .dataframe tbody tr th {\n",
       "        vertical-align: top;\n",
       "    }\n",
       "\n",
       "    .dataframe thead th {\n",
       "        text-align: right;\n",
       "    }\n",
       "</style>\n",
       "<table border=\"1\" class=\"dataframe\">\n",
       "  <thead>\n",
       "    <tr style=\"text-align: right;\">\n",
       "      <th></th>\n",
       "      <th>date</th>\n",
       "      <th>Avg Temperature</th>\n",
       "      <th>No of crimes</th>\n",
       "    </tr>\n",
       "  </thead>\n",
       "  <tbody>\n",
       "    <tr>\n",
       "      <th>0</th>\n",
       "      <td>2015-06-15</td>\n",
       "      <td>289.234796</td>\n",
       "      <td>249</td>\n",
       "    </tr>\n",
       "    <tr>\n",
       "      <th>1</th>\n",
       "      <td>2015-06-15</td>\n",
       "      <td>288.214000</td>\n",
       "      <td>249</td>\n",
       "    </tr>\n",
       "    <tr>\n",
       "      <th>2</th>\n",
       "      <td>2015-06-15</td>\n",
       "      <td>288.439758</td>\n",
       "      <td>249</td>\n",
       "    </tr>\n",
       "    <tr>\n",
       "      <th>3</th>\n",
       "      <td>2015-06-15</td>\n",
       "      <td>288.319437</td>\n",
       "      <td>249</td>\n",
       "    </tr>\n",
       "    <tr>\n",
       "      <th>4</th>\n",
       "      <td>2015-06-15</td>\n",
       "      <td>288.783667</td>\n",
       "      <td>249</td>\n",
       "    </tr>\n",
       "  </tbody>\n",
       "</table>\n",
       "</div>"
      ],
      "text/plain": [
       "         date  Avg Temperature  No of crimes\n",
       "0  2015-06-15       289.234796           249\n",
       "1  2015-06-15       288.214000           249\n",
       "2  2015-06-15       288.439758           249\n",
       "3  2015-06-15       288.319437           249\n",
       "4  2015-06-15       288.783667           249"
      ]
     },
     "execution_count": 15,
     "metadata": {},
     "output_type": "execute_result"
    }
   ],
   "source": [
    "data.head()"
   ]
  },
  {
   "cell_type": "code",
   "execution_count": 16,
   "metadata": {},
   "outputs": [],
   "source": [
    "bo_humidity['Boston'] =bo_humidity['Boston'].fillna(bo_humidity.groupby('date')['Boston'].transform('mean'))"
   ]
  },
  {
   "cell_type": "code",
   "execution_count": 17,
   "metadata": {},
   "outputs": [
    {
     "data": {
      "text/html": [
       "<div>\n",
       "<style scoped>\n",
       "    .dataframe tbody tr th:only-of-type {\n",
       "        vertical-align: middle;\n",
       "    }\n",
       "\n",
       "    .dataframe tbody tr th {\n",
       "        vertical-align: top;\n",
       "    }\n",
       "\n",
       "    .dataframe thead th {\n",
       "        text-align: right;\n",
       "    }\n",
       "</style>\n",
       "<table border=\"1\" class=\"dataframe\">\n",
       "  <thead>\n",
       "    <tr style=\"text-align: right;\">\n",
       "      <th></th>\n",
       "      <th>date</th>\n",
       "      <th>Boston</th>\n",
       "    </tr>\n",
       "  </thead>\n",
       "  <tbody>\n",
       "    <tr>\n",
       "      <th>0</th>\n",
       "      <td>2012-10-01</td>\n",
       "      <td>NaN</td>\n",
       "    </tr>\n",
       "    <tr>\n",
       "      <th>1</th>\n",
       "      <td>2012-10-01</td>\n",
       "      <td>1014.0</td>\n",
       "    </tr>\n",
       "    <tr>\n",
       "      <th>2</th>\n",
       "      <td>2012-10-01</td>\n",
       "      <td>1014.0</td>\n",
       "    </tr>\n",
       "    <tr>\n",
       "      <th>3</th>\n",
       "      <td>2012-10-01</td>\n",
       "      <td>1014.0</td>\n",
       "    </tr>\n",
       "    <tr>\n",
       "      <th>4</th>\n",
       "      <td>2012-10-01</td>\n",
       "      <td>1014.0</td>\n",
       "    </tr>\n",
       "  </tbody>\n",
       "</table>\n",
       "</div>"
      ],
      "text/plain": [
       "         date  Boston\n",
       "0  2012-10-01     NaN\n",
       "1  2012-10-01  1014.0\n",
       "2  2012-10-01  1014.0\n",
       "3  2012-10-01  1014.0\n",
       "4  2012-10-01  1014.0"
      ]
     },
     "execution_count": 17,
     "metadata": {},
     "output_type": "execute_result"
    }
   ],
   "source": [
    "pressure=pd.read_csv(\"/Users/rudranibhadra/Downloads/historical-hourly-weather-data/pressure.csv\")\n",
    "pressure['datetime'] = pd.to_datetime(pressure['datetime'])\n",
    "pressure['date'] = pressure['datetime'].dt.date\n",
    "#pressure.head()\n",
    "bo_pressure=pressure.loc[:,[\"date\",\"Boston\"]]\n",
    "bo_pressure.head()"
   ]
  },
  {
   "cell_type": "code",
   "execution_count": 18,
   "metadata": {},
   "outputs": [],
   "source": [
    "bo_pressure['Bosto'] = bo_pressure['Boston'].fillna(bo_pressure.groupby('date')['Boston'].transform('mean'))"
   ]
  },
  {
   "cell_type": "code",
   "execution_count": 19,
   "metadata": {},
   "outputs": [],
   "source": [
    "data1=pd.merge(bo_humidity,data, on='date')"
   ]
  },
  {
   "cell_type": "code",
   "execution_count": 20,
   "metadata": {},
   "outputs": [
    {
     "data": {
      "text/html": [
       "<div>\n",
       "<style scoped>\n",
       "    .dataframe tbody tr th:only-of-type {\n",
       "        vertical-align: middle;\n",
       "    }\n",
       "\n",
       "    .dataframe tbody tr th {\n",
       "        vertical-align: top;\n",
       "    }\n",
       "\n",
       "    .dataframe thead th {\n",
       "        text-align: right;\n",
       "    }\n",
       "</style>\n",
       "<table border=\"1\" class=\"dataframe\">\n",
       "  <thead>\n",
       "    <tr style=\"text-align: right;\">\n",
       "      <th></th>\n",
       "      <th>date</th>\n",
       "      <th>Boston</th>\n",
       "      <th>Avg Temperature</th>\n",
       "      <th>No of crimes</th>\n",
       "    </tr>\n",
       "  </thead>\n",
       "  <tbody>\n",
       "    <tr>\n",
       "      <th>0</th>\n",
       "      <td>2015-06-15</td>\n",
       "      <td>70.0</td>\n",
       "      <td>289.234796</td>\n",
       "      <td>249</td>\n",
       "    </tr>\n",
       "    <tr>\n",
       "      <th>1</th>\n",
       "      <td>2015-06-15</td>\n",
       "      <td>70.0</td>\n",
       "      <td>288.214000</td>\n",
       "      <td>249</td>\n",
       "    </tr>\n",
       "    <tr>\n",
       "      <th>2</th>\n",
       "      <td>2015-06-15</td>\n",
       "      <td>70.0</td>\n",
       "      <td>288.439758</td>\n",
       "      <td>249</td>\n",
       "    </tr>\n",
       "    <tr>\n",
       "      <th>3</th>\n",
       "      <td>2015-06-15</td>\n",
       "      <td>70.0</td>\n",
       "      <td>288.319437</td>\n",
       "      <td>249</td>\n",
       "    </tr>\n",
       "    <tr>\n",
       "      <th>4</th>\n",
       "      <td>2015-06-15</td>\n",
       "      <td>70.0</td>\n",
       "      <td>288.783667</td>\n",
       "      <td>249</td>\n",
       "    </tr>\n",
       "  </tbody>\n",
       "</table>\n",
       "</div>"
      ],
      "text/plain": [
       "         date  Boston  Avg Temperature  No of crimes\n",
       "0  2015-06-15    70.0       289.234796           249\n",
       "1  2015-06-15    70.0       288.214000           249\n",
       "2  2015-06-15    70.0       288.439758           249\n",
       "3  2015-06-15    70.0       288.319437           249\n",
       "4  2015-06-15    70.0       288.783667           249"
      ]
     },
     "execution_count": 20,
     "metadata": {},
     "output_type": "execute_result"
    }
   ],
   "source": [
    "data1.head()"
   ]
  },
  {
   "cell_type": "code",
   "execution_count": 21,
   "metadata": {},
   "outputs": [
    {
     "data": {
      "text/html": [
       "<div>\n",
       "<style scoped>\n",
       "    .dataframe tbody tr th:only-of-type {\n",
       "        vertical-align: middle;\n",
       "    }\n",
       "\n",
       "    .dataframe tbody tr th {\n",
       "        vertical-align: top;\n",
       "    }\n",
       "\n",
       "    .dataframe thead th {\n",
       "        text-align: right;\n",
       "    }\n",
       "</style>\n",
       "<table border=\"1\" class=\"dataframe\">\n",
       "  <thead>\n",
       "    <tr style=\"text-align: right;\">\n",
       "      <th></th>\n",
       "      <th>date</th>\n",
       "      <th>Avg Pressure</th>\n",
       "      <th>Bosto</th>\n",
       "      <th>Avg Humidity</th>\n",
       "      <th>Avg Temperature</th>\n",
       "      <th>No of crimes</th>\n",
       "    </tr>\n",
       "  </thead>\n",
       "  <tbody>\n",
       "    <tr>\n",
       "      <th>0</th>\n",
       "      <td>2015-06-15</td>\n",
       "      <td>1031.0</td>\n",
       "      <td>1031.0</td>\n",
       "      <td>70.0</td>\n",
       "      <td>289.234796</td>\n",
       "      <td>249</td>\n",
       "    </tr>\n",
       "    <tr>\n",
       "      <th>1</th>\n",
       "      <td>2015-06-15</td>\n",
       "      <td>1031.0</td>\n",
       "      <td>1031.0</td>\n",
       "      <td>70.0</td>\n",
       "      <td>288.214000</td>\n",
       "      <td>249</td>\n",
       "    </tr>\n",
       "    <tr>\n",
       "      <th>2</th>\n",
       "      <td>2015-06-15</td>\n",
       "      <td>1031.0</td>\n",
       "      <td>1031.0</td>\n",
       "      <td>70.0</td>\n",
       "      <td>288.439758</td>\n",
       "      <td>249</td>\n",
       "    </tr>\n",
       "    <tr>\n",
       "      <th>3</th>\n",
       "      <td>2015-06-15</td>\n",
       "      <td>1031.0</td>\n",
       "      <td>1031.0</td>\n",
       "      <td>70.0</td>\n",
       "      <td>288.319437</td>\n",
       "      <td>249</td>\n",
       "    </tr>\n",
       "    <tr>\n",
       "      <th>4</th>\n",
       "      <td>2015-06-15</td>\n",
       "      <td>1031.0</td>\n",
       "      <td>1031.0</td>\n",
       "      <td>70.0</td>\n",
       "      <td>288.783667</td>\n",
       "      <td>249</td>\n",
       "    </tr>\n",
       "  </tbody>\n",
       "</table>\n",
       "</div>"
      ],
      "text/plain": [
       "         date  Avg Pressure   Bosto  Avg Humidity  Avg Temperature  \\\n",
       "0  2015-06-15        1031.0  1031.0          70.0       289.234796   \n",
       "1  2015-06-15        1031.0  1031.0          70.0       288.214000   \n",
       "2  2015-06-15        1031.0  1031.0          70.0       288.439758   \n",
       "3  2015-06-15        1031.0  1031.0          70.0       288.319437   \n",
       "4  2015-06-15        1031.0  1031.0          70.0       288.783667   \n",
       "\n",
       "   No of crimes  \n",
       "0           249  \n",
       "1           249  \n",
       "2           249  \n",
       "3           249  \n",
       "4           249  "
      ]
     },
     "execution_count": 21,
     "metadata": {},
     "output_type": "execute_result"
    }
   ],
   "source": [
    "data1.rename(columns={'Boston': 'Avg Humidity'}, inplace=True)\n",
    "data2=pd.merge(bo_pressure,data1, on='date')\n",
    "data2.rename(columns={'Boston': 'Avg Pressure'}, inplace=True)\n",
    "data2.head()"
   ]
  },
  {
   "cell_type": "code",
   "execution_count": 22,
   "metadata": {},
   "outputs": [
    {
     "name": "stdout",
     "output_type": "stream",
     "text": [
      "<class 'pandas.core.frame.DataFrame'>\n",
      "Int64Index: 12427777 entries, 0 to 12427776\n",
      "Data columns (total 6 columns):\n",
      "date               object\n",
      "Avg Pressure       float64\n",
      "Bosto              float64\n",
      "Avg Humidity       float64\n",
      "Avg Temperature    float64\n",
      "No of crimes       int64\n",
      "dtypes: float64(4), int64(1), object(1)\n",
      "memory usage: 663.7+ MB\n"
     ]
    }
   ],
   "source": [
    "data2.info()"
   ]
  },
  {
   "cell_type": "code",
   "execution_count": 23,
   "metadata": {},
   "outputs": [
    {
     "data": {
      "text/plain": [
       "date               0\n",
       "Avg Pressure       0\n",
       "Bosto              0\n",
       "Avg Humidity       0\n",
       "Avg Temperature    0\n",
       "No of crimes       0\n",
       "dtype: int64"
      ]
     },
     "execution_count": 23,
     "metadata": {},
     "output_type": "execute_result"
    }
   ],
   "source": [
    "data2.isnull().sum()"
   ]
  },
  {
   "cell_type": "code",
   "execution_count": 24,
   "metadata": {},
   "outputs": [
    {
     "data": {
      "text/html": [
       "<div>\n",
       "<style scoped>\n",
       "    .dataframe tbody tr th:only-of-type {\n",
       "        vertical-align: middle;\n",
       "    }\n",
       "\n",
       "    .dataframe tbody tr th {\n",
       "        vertical-align: top;\n",
       "    }\n",
       "\n",
       "    .dataframe thead th {\n",
       "        text-align: right;\n",
       "    }\n",
       "</style>\n",
       "<table border=\"1\" class=\"dataframe\">\n",
       "  <thead>\n",
       "    <tr style=\"text-align: right;\">\n",
       "      <th></th>\n",
       "      <th>date</th>\n",
       "      <th>Boston</th>\n",
       "    </tr>\n",
       "  </thead>\n",
       "  <tbody>\n",
       "    <tr>\n",
       "      <th>0</th>\n",
       "      <td>2012-10-01</td>\n",
       "      <td>NaN</td>\n",
       "    </tr>\n",
       "    <tr>\n",
       "      <th>1</th>\n",
       "      <td>2012-10-01</td>\n",
       "      <td>sky is clear</td>\n",
       "    </tr>\n",
       "    <tr>\n",
       "      <th>2</th>\n",
       "      <td>2012-10-01</td>\n",
       "      <td>few clouds</td>\n",
       "    </tr>\n",
       "    <tr>\n",
       "      <th>3</th>\n",
       "      <td>2012-10-01</td>\n",
       "      <td>few clouds</td>\n",
       "    </tr>\n",
       "    <tr>\n",
       "      <th>4</th>\n",
       "      <td>2012-10-01</td>\n",
       "      <td>few clouds</td>\n",
       "    </tr>\n",
       "  </tbody>\n",
       "</table>\n",
       "</div>"
      ],
      "text/plain": [
       "         date        Boston\n",
       "0  2012-10-01           NaN\n",
       "1  2012-10-01  sky is clear\n",
       "2  2012-10-01    few clouds\n",
       "3  2012-10-01    few clouds\n",
       "4  2012-10-01    few clouds"
      ]
     },
     "execution_count": 24,
     "metadata": {},
     "output_type": "execute_result"
    }
   ],
   "source": [
    "weather_description=pd.read_csv(\"/Users/rudranibhadra/Downloads/historical-hourly-weather-data/weather_description.csv\")\n",
    "weather_description.head()\n",
    "weather_description['datetime'] = pd.to_datetime(weather_description['datetime'])\n",
    "weather_description['date'] = weather_description['datetime'].dt.date\n",
    "#humidity.head()\n",
    "bo_rain=weather_description.loc[:,[\"date\",\"Boston\"]]\n",
    "bo_rain.head()"
   ]
  },
  {
   "cell_type": "code",
   "execution_count": 25,
   "metadata": {},
   "outputs": [
    {
     "data": {
      "text/html": [
       "<div>\n",
       "<style scoped>\n",
       "    .dataframe tbody tr th:only-of-type {\n",
       "        vertical-align: middle;\n",
       "    }\n",
       "\n",
       "    .dataframe tbody tr th {\n",
       "        vertical-align: top;\n",
       "    }\n",
       "\n",
       "    .dataframe thead th {\n",
       "        text-align: right;\n",
       "    }\n",
       "</style>\n",
       "<table border=\"1\" class=\"dataframe\">\n",
       "  <thead>\n",
       "    <tr style=\"text-align: right;\">\n",
       "      <th></th>\n",
       "      <th>date</th>\n",
       "      <th>Boston</th>\n",
       "    </tr>\n",
       "  </thead>\n",
       "  <tbody>\n",
       "    <tr>\n",
       "      <th>0</th>\n",
       "      <td>2012-10-01</td>\n",
       "      <td>few clouds</td>\n",
       "    </tr>\n",
       "    <tr>\n",
       "      <th>1</th>\n",
       "      <td>2012-10-02</td>\n",
       "      <td>few clouds</td>\n",
       "    </tr>\n",
       "    <tr>\n",
       "      <th>2</th>\n",
       "      <td>2012-10-03</td>\n",
       "      <td>sky is clear</td>\n",
       "    </tr>\n",
       "    <tr>\n",
       "      <th>3</th>\n",
       "      <td>2012-10-04</td>\n",
       "      <td>mist</td>\n",
       "    </tr>\n",
       "    <tr>\n",
       "      <th>4</th>\n",
       "      <td>2012-10-05</td>\n",
       "      <td>mist</td>\n",
       "    </tr>\n",
       "  </tbody>\n",
       "</table>\n",
       "</div>"
      ],
      "text/plain": [
       "         date        Boston\n",
       "0  2012-10-01    few clouds\n",
       "1  2012-10-02    few clouds\n",
       "2  2012-10-03  sky is clear\n",
       "3  2012-10-04          mist\n",
       "4  2012-10-05          mist"
      ]
     },
     "execution_count": 25,
     "metadata": {},
     "output_type": "execute_result"
    }
   ],
   "source": [
    "bo_rain = bo_rain.dropna(subset=['Boston'])\n",
    "bo_rain=bo_rain.groupby('date')['Boston'].agg(lambda x: x.value_counts().index[0]).to_frame().reset_index()\n",
    "bo_rain.head()"
   ]
  },
  {
   "cell_type": "code",
   "execution_count": 26,
   "metadata": {},
   "outputs": [],
   "source": [
    "data3=pd.merge(data2,bo_rain,on='date')\n",
    "data3.rename(columns={'Boston': 'weather description'}, inplace=True)\n",
    "data3=data3[['date','Avg Temperature','Avg Humidity','Avg Pressure','weather description','No of crimes']]"
   ]
  },
  {
   "cell_type": "code",
   "execution_count": 27,
   "metadata": {},
   "outputs": [
    {
     "data": {
      "text/html": [
       "<div>\n",
       "<style scoped>\n",
       "    .dataframe tbody tr th:only-of-type {\n",
       "        vertical-align: middle;\n",
       "    }\n",
       "\n",
       "    .dataframe tbody tr th {\n",
       "        vertical-align: top;\n",
       "    }\n",
       "\n",
       "    .dataframe thead th {\n",
       "        text-align: right;\n",
       "    }\n",
       "</style>\n",
       "<table border=\"1\" class=\"dataframe\">\n",
       "  <thead>\n",
       "    <tr style=\"text-align: right;\">\n",
       "      <th></th>\n",
       "      <th>date</th>\n",
       "      <th>Avg Temperature</th>\n",
       "      <th>Avg Humidity</th>\n",
       "      <th>Avg Pressure</th>\n",
       "      <th>weather description</th>\n",
       "      <th>No of crimes</th>\n",
       "    </tr>\n",
       "  </thead>\n",
       "  <tbody>\n",
       "    <tr>\n",
       "      <th>0</th>\n",
       "      <td>2015-06-15</td>\n",
       "      <td>289.234796</td>\n",
       "      <td>70.0</td>\n",
       "      <td>1031.0</td>\n",
       "      <td>moderate rain</td>\n",
       "      <td>249</td>\n",
       "    </tr>\n",
       "    <tr>\n",
       "      <th>1</th>\n",
       "      <td>2015-06-15</td>\n",
       "      <td>288.214000</td>\n",
       "      <td>70.0</td>\n",
       "      <td>1031.0</td>\n",
       "      <td>moderate rain</td>\n",
       "      <td>249</td>\n",
       "    </tr>\n",
       "    <tr>\n",
       "      <th>2</th>\n",
       "      <td>2015-06-15</td>\n",
       "      <td>288.439758</td>\n",
       "      <td>70.0</td>\n",
       "      <td>1031.0</td>\n",
       "      <td>moderate rain</td>\n",
       "      <td>249</td>\n",
       "    </tr>\n",
       "    <tr>\n",
       "      <th>3</th>\n",
       "      <td>2015-06-15</td>\n",
       "      <td>288.319437</td>\n",
       "      <td>70.0</td>\n",
       "      <td>1031.0</td>\n",
       "      <td>moderate rain</td>\n",
       "      <td>249</td>\n",
       "    </tr>\n",
       "    <tr>\n",
       "      <th>4</th>\n",
       "      <td>2015-06-15</td>\n",
       "      <td>288.783667</td>\n",
       "      <td>70.0</td>\n",
       "      <td>1031.0</td>\n",
       "      <td>moderate rain</td>\n",
       "      <td>249</td>\n",
       "    </tr>\n",
       "  </tbody>\n",
       "</table>\n",
       "</div>"
      ],
      "text/plain": [
       "         date  Avg Temperature  Avg Humidity  Avg Pressure  \\\n",
       "0  2015-06-15       289.234796          70.0        1031.0   \n",
       "1  2015-06-15       288.214000          70.0        1031.0   \n",
       "2  2015-06-15       288.439758          70.0        1031.0   \n",
       "3  2015-06-15       288.319437          70.0        1031.0   \n",
       "4  2015-06-15       288.783667          70.0        1031.0   \n",
       "\n",
       "  weather description  No of crimes  \n",
       "0       moderate rain           249  \n",
       "1       moderate rain           249  \n",
       "2       moderate rain           249  \n",
       "3       moderate rain           249  \n",
       "4       moderate rain           249  "
      ]
     },
     "execution_count": 27,
     "metadata": {},
     "output_type": "execute_result"
    }
   ],
   "source": [
    "data3.head()"
   ]
  },
  {
   "cell_type": "code",
   "execution_count": 29,
   "metadata": {},
   "outputs": [],
   "source": [
    "def f(x):\n",
    "    x = x-273.15\n",
    "    return float(x)\n",
    "\n",
    "data3['Avg Temperature']=data3['Avg Temperature'].apply(f)"
   ]
  },
  {
   "cell_type": "code",
   "execution_count": 32,
   "metadata": {},
   "outputs": [
    {
     "data": {
      "image/png": "[encoded data removed]",
      "text/plain": [
       "<Figure size 432x288 with 1 Axes>"
      ]
     },
     "metadata": {},
     "output_type": "display_data"
    }
   ],
   "source": [
    "sns.set(color_codes=True)\n",
    "plt.scatter(data3['Avg Temperature'],data3['No of crimes'],color='b',alpha=0.01)\n",
    "plt.xlabel('Avg Temperature')\n",
    "plt.ylabel('No of crimes')\n",
    "plt.show()"
   ]
  },
  {
   "cell_type": "code",
   "execution_count": 33,
   "metadata": {},
   "outputs": [
    {
     "data": {
      "image/png": "[encoded data removed]",
      "text/plain": [
       "<Figure size 432x288 with 1 Axes>"
      ]
     },
     "metadata": {},
     "output_type": "display_data"
    }
   ],
   "source": [
    "plt.scatter(data3['Avg Humidity'],data3['No of crimes'],color='r',alpha=0.01)\n",
    "plt.xlabel('Avg Humidity')\n",
    "plt.ylabel('No of crimes')\n",
    "plt.show()"
   ]
  },
  {
   "cell_type": "code",
   "execution_count": 34,
   "metadata": {},
   "outputs": [
    {
     "data": {
      "image/png": "[encoded data removed]",
      "text/plain": [
       "<Figure size 432x288 with 1 Axes>"
      ]
     },
     "metadata": {},
     "output_type": "display_data"
    }
   ],
   "source": [
    "plt.scatter(data3['Avg Pressure'],data3['No of crimes'],color='g',alpha=0.5)\n",
    "plt.xlabel('Avg Pressure')\n",
    "plt.ylabel('No of crimes')\n",
    "plt.show()"
   ]
  },
  {
   "cell_type": "code",
   "execution_count": 35,
   "metadata": {},
   "outputs": [
    {
     "data": {
      "image/png": "[encoded data removed]",
      "text/plain": [
       "<Figure size 432x288 with 1 Axes>"
      ]
     },
     "metadata": {},
     "output_type": "display_data"
    }
   ],
   "source": [
    "plt.scatter(data3['weather description'],data3['No of crimes'],color='y',alpha=0.5)\n",
    "plt.xlabel('weather')\n",
    "plt.ylabel('No of crimes')\n",
    "plt.xticks(rotation=90)\n",
    "plt.show()"
   ]
  },
  {
   "cell_type": "code",
   "execution_count": 36,
   "metadata": {},
   "outputs": [
    {
     "data": {
      "text/plain": [
       "<matplotlib.axes._subplots.AxesSubplot at 0x10a258b38>"
      ]
     },
     "execution_count": 36,
     "metadata": {},
     "output_type": "execute_result"
    },
    {
     "data": {
      "image/png": "[encoded data removed]",
      "text/plain": [
       "<Figure size 432x288 with 1 Axes>"
      ]
     },
     "metadata": {},
     "output_type": "display_data"
    }
   ],
   "source": [
    "data3['date'] = pd.to_datetime(data3['date'])\n",
    "ch = data3[(data3['date'].dt.month == 12) & (data3['date'].dt.day.isin([24,25,26,27,28,29,30,31]))]\n",
    "sns.set(color_codes=True)\n",
    "sns.regplot(data3['Avg Temperature'], data3['No of crimes'], color='b')\n",
    "sns.regplot(ch['Avg Temperature'],ch['No of crimes'],color='r')"
   ]
  },
  {
   "cell_type": "code",
   "execution_count": 37,
   "metadata": {},
   "outputs": [
    {
     "data": {
      "text/plain": [
       "<matplotlib.axes._subplots.AxesSubplot at 0x1a1f462080>"
      ]
     },
     "execution_count": 37,
     "metadata": {},
     "output_type": "execute_result"
    },
    {
     "data": {
      "image/png": "[encoded data removed]",
      "text/plain": [
       "<Figure size 432x288 with 1 Axes>"
      ]
     },
     "metadata": {},
     "output_type": "display_data"
    }
   ],
   "source": [
    "sns.set(color_codes=True)\n",
    "sns.regplot(data3['Avg Humidity'], data3['No of crimes'], color='g')\n",
    "sns.regplot(ch['Avg Humidity'],ch['No of crimes'],color='r')"
   ]
  },
  {
   "cell_type": "code",
   "execution_count": 116,
   "metadata": {},
   "outputs": [
    {
     "data": {
      "text/plain": [
       "<matplotlib.axes._subplots.AxesSubplot at 0x1a3f614cc0>"
      ]
     },
     "execution_count": 116,
     "metadata": {},
     "output_type": "execute_result"
    },
    {
     "data": {
      "image/png": "[encoded data removed]",
      "text/plain": [
       "<Figure size 432x288 with 1 Axes>"
      ]
     },
     "metadata": {},
     "output_type": "display_data"
    }
   ],
   "source": [
    "sns.set(color_codes=True)\n",
    "sns.regplot(data3['Avg Pressure'], data3['No of crimes'], color='y')\n",
    "sns.regplot(ch['Avg Pressure'],ch['No of crimes'],color='r')"
   ]
  },
  {
   "cell_type": "code",
   "execution_count": 117,
   "metadata": {},
   "outputs": [
    {
     "data": {
      "text/html": [
       "<div>\n",
       "<style scoped>\n",
       "    .dataframe tbody tr th:only-of-type {\n",
       "        vertical-align: middle;\n",
       "    }\n",
       "\n",
       "    .dataframe tbody tr th {\n",
       "        vertical-align: top;\n",
       "    }\n",
       "\n",
       "    .dataframe thead th {\n",
       "        text-align: right;\n",
       "    }\n",
       "</style>\n",
       "<table border=\"1\" class=\"dataframe\">\n",
       "  <thead>\n",
       "    <tr style=\"text-align: right;\">\n",
       "      <th></th>\n",
       "      <th>date</th>\n",
       "      <th>Avg Temperature</th>\n",
       "      <th>Avg Humidity</th>\n",
       "      <th>Avg Pressure</th>\n",
       "      <th>weather description</th>\n",
       "      <th>No of crimes</th>\n",
       "    </tr>\n",
       "  </thead>\n",
       "  <tbody>\n",
       "    <tr>\n",
       "      <th>0</th>\n",
       "      <td>2015-06-15</td>\n",
       "      <td>289.234796</td>\n",
       "      <td>70.0</td>\n",
       "      <td>1031.0</td>\n",
       "      <td>moderate rain</td>\n",
       "      <td>249</td>\n",
       "    </tr>\n",
       "    <tr>\n",
       "      <th>1</th>\n",
       "      <td>2015-06-15</td>\n",
       "      <td>288.214000</td>\n",
       "      <td>70.0</td>\n",
       "      <td>1031.0</td>\n",
       "      <td>moderate rain</td>\n",
       "      <td>249</td>\n",
       "    </tr>\n",
       "    <tr>\n",
       "      <th>2</th>\n",
       "      <td>2015-06-15</td>\n",
       "      <td>288.439758</td>\n",
       "      <td>70.0</td>\n",
       "      <td>1031.0</td>\n",
       "      <td>moderate rain</td>\n",
       "      <td>249</td>\n",
       "    </tr>\n",
       "    <tr>\n",
       "      <th>3</th>\n",
       "      <td>2015-06-15</td>\n",
       "      <td>288.319437</td>\n",
       "      <td>70.0</td>\n",
       "      <td>1031.0</td>\n",
       "      <td>moderate rain</td>\n",
       "      <td>249</td>\n",
       "    </tr>\n",
       "    <tr>\n",
       "      <th>4</th>\n",
       "      <td>2015-06-15</td>\n",
       "      <td>288.783667</td>\n",
       "      <td>70.0</td>\n",
       "      <td>1031.0</td>\n",
       "      <td>moderate rain</td>\n",
       "      <td>249</td>\n",
       "    </tr>\n",
       "  </tbody>\n",
       "</table>\n",
       "</div>"
      ],
      "text/plain": [
       "        date  Avg Temperature  Avg Humidity  Avg Pressure weather description  \\\n",
       "0 2015-06-15       289.234796          70.0        1031.0       moderate rain   \n",
       "1 2015-06-15       288.214000          70.0        1031.0       moderate rain   \n",
       "2 2015-06-15       288.439758          70.0        1031.0       moderate rain   \n",
       "3 2015-06-15       288.319437          70.0        1031.0       moderate rain   \n",
       "4 2015-06-15       288.783667          70.0        1031.0       moderate rain   \n",
       "\n",
       "   No of crimes  \n",
       "0           249  \n",
       "1           249  \n",
       "2           249  \n",
       "3           249  \n",
       "4           249  "
      ]
     },
     "execution_count": 117,
     "metadata": {},
     "output_type": "execute_result"
    }
   ],
   "source": [
    "data3.head()"
   ]
  },
  {
   "cell_type": "code",
   "execution_count": 38,
   "metadata": {},
   "outputs": [],
   "source": [
    "\n",
    "#X_train, X_test, y_train, y_test = train_test_split(X, y, test_size=0.2, random_state = 2)\n",
    "#x_test = x_test.drop(['date'], axis=1)\n",
    "#x_train = x_train.drop(['date'], axis=1)\n",
    "from sklearn.model_selection import train_test_split\n",
    "#data3.head()\n",
    "from sklearn import preprocessing\n",
    "\n",
    "# min_max_scaler = preprocessing.MinMaxScaler()\n",
    "X=pd.DataFrame(data3[['Avg Temperature','Avg Humidity','Avg Pressure']])\n",
    "#x_scaled = min_max_scaler.fit_transform(X)\n",
    "#x_new = pd.DataFrame(x_scaled)\n",
    "y=pd.DataFrame(data3.iloc[:,5])\n",
    "#x_new.head()\n",
    "#plt.plot(x_new)\n",
    "X_train, X_test, y_train, y_test = train_test_split(X, y, test_size=0.2, random_state = 2)\n",
    "X_train.head()\n",
    "# data3.info()\n",
    "X_train1=pd.DataFrame(X_train['Avg Temperature'])\n",
    "X_test1=pd.DataFrame(X_test['Avg Temperature'])\n",
    "X_train2=pd.DataFrame(X_train['Avg Humidity'])\n",
    "X_test2=pd.DataFrame(X_test['Avg Humidity'])\n",
    "X_train3=pd.DataFrame(X_train['Avg Pressure'])\n",
    "X_test3=pd.DataFrame(X_test['Avg Pressure'])"
   ]
  },
  {
   "cell_type": "code",
   "execution_count": 39,
   "metadata": {},
   "outputs": [
    {
     "name": "stdout",
     "output_type": "stream",
     "text": [
      "[257.76557502]\n",
      "[[1.24892919]]\n"
     ]
    },
    {
     "data": {
      "image/png": "[encoded data removed]",
      "text/plain": [
       "<Figure size 432x288 with 1 Axes>"
      ]
     },
     "metadata": {},
     "output_type": "display_data"
    }
   ],
   "source": [
    "lr=LinearRegression()\n",
    "\n",
    "lr.fit(X_train1, y_train)\n",
    "prediction=lr.predict(np.sort(X_train1, axis=0))\n",
    "\n",
    "y_pred = lr.predict(X_test1)\n",
    "print(lr.intercept_)\n",
    "print(lr.coef_)\n",
    "# plt.title('Comparison of Y values in test and the Predicted values')\n",
    "# plt.ylabel('Test Set')\n",
    "# plt.xlabel('Predicted values')\n",
    "# plt.scatter(y_pred, y_test,  color='black')\n",
    "plt.scatter(X_test1, y_test,  color='black',alpha=0.7,s=3)\n",
    "plt.scatter(X_test1, y_pred, color='r',alpha=1,s=3)\n",
    "plt.ylabel('No of crimes')\n",
    "plt.show()\n"
   ]
  },
  {
   "cell_type": "code",
   "execution_count": 40,
   "metadata": {},
   "outputs": [
    {
     "name": "stdout",
     "output_type": "stream",
     "text": [
      "[271.59372295]\n",
      "[[0.02157358]]\n"
     ]
    },
    {
     "data": {
      "image/png": "[encoded data removed]",
      "text/plain": [
       "<Figure size 432x288 with 1 Axes>"
      ]
     },
     "metadata": {},
     "output_type": "display_data"
    }
   ],
   "source": [
    "lr=LinearRegression()\n",
    "\n",
    "lr.fit(X_train2, y_train)\n",
    "prediction=lr.predict(np.sort(X_train2, axis=0))\n",
    "\n",
    "y_pred = lr.predict(X_test2)\n",
    "print(lr.intercept_)\n",
    "print(lr.coef_)\n",
    "# plt.title('Comparison of Y values in test and the Predicted values')\n",
    "# plt.ylabel('Test Set')\n",
    "# plt.xlabel('Predicted values')\n",
    "# plt.scatter(y_pred, y_test,  color='black')\n",
    "plt.scatter(X_test2, y_test,  color='black',alpha=0.7,s=3)\n",
    "plt.scatter(X_test2, y_pred, color='r',alpha=1,s=3)\n",
    "plt.ylabel('No of crimes')\n",
    "plt.show()"
   ]
  },
  {
   "cell_type": "code",
   "execution_count": 41,
   "metadata": {},
   "outputs": [
    {
     "name": "stdout",
     "output_type": "stream",
     "text": [
      "[717.28351775]\n",
      "[[-0.43617064]]\n"
     ]
    },
    {
     "data": {
      "image/png": "[encoded data removed]",
      "text/plain": [
       "<Figure size 432x288 with 1 Axes>"
      ]
     },
     "metadata": {},
     "output_type": "display_data"
    }
   ],
   "source": [
    "lr=LinearRegression()\n",
    "\n",
    "lr.fit(X_train3, y_train)\n",
    "prediction=lr.predict(np.sort(X_train3, axis=0))\n",
    "\n",
    "y_pred = lr.predict(X_test3)\n",
    "print(lr.intercept_)\n",
    "print(lr.coef_)\n",
    "# plt.title('Comparison of Y values in test and the Predicted values')\n",
    "# plt.ylabel('Test Set')\n",
    "# plt.xlabel('Predicted values')\n",
    "# plt.scatter(y_pred, y_test,  color='black')\n",
    "plt.scatter(X_test3, y_test,  color='black',alpha=0.7,s=3)\n",
    "plt.scatter(X_test3, y_pred, color='r',alpha=1,s=3)\n",
    "plt.ylabel('No of crimes')\n",
    "plt.show()"
   ]
  },
  {
   "cell_type": "code",
   "execution_count": 42,
   "metadata": {},
   "outputs": [
    {
     "name": "stdout",
     "output_type": "stream",
     "text": [
      "[413.72190689]\n",
      "[[ 1.22670672 -0.03264373 -0.15046193]]\n"
     ]
    }
   ],
   "source": [
    "lr=LinearRegression()\n",
    "\n",
    "lr.fit(X_train, y_train)\n",
    "prediction=lr.predict(np.sort(X_train, axis=0))\n",
    "\n",
    "y_pred = lr.predict(X_test)\n",
    "print(lr.intercept_)\n",
    "print(lr.coef_)"
   ]
  },
  {
   "cell_type": "code",
   "execution_count": 43,
   "metadata": {},
   "outputs": [
    {
     "data": {
      "text/plain": [
       "array([[262.28066678]])"
      ]
     },
     "execution_count": 43,
     "metadata": {},
     "output_type": "execute_result"
    }
   ],
   "source": [
    "X_new = pd.DataFrame({'Avg Temperature': [0],'Avg Humidity':[30],'Avg Pressure':[1000]})\n",
    "lr.predict(X_new)"
   ]
  },
  {
   "cell_type": "code",
   "execution_count": 44,
   "metadata": {},
   "outputs": [],
   "source": [
    "#avg no of crimes in summer and winter months\n",
    "#summer\n",
    "sm = data3[(data3['date'].dt.month == 5) | (data3['date'].dt.month == 6) | (data3['date'].dt.month == 7) | (data3['date'].dt.month == 8)]\n",
    "#winter\n",
    "wn = data3[(data3['date'].dt.month == 11) | (data3['date'].dt.month == 12) | (data3['date'].dt.month == 1) | (data3['date'].dt.month == 2)]"
   ]
  },
  {
   "cell_type": "code",
   "execution_count": 47,
   "metadata": {},
   "outputs": [
    {
     "name": "stdout",
     "output_type": "stream",
     "text": [
      "The average number of incidents in the winter months in Boston is: 258.903706944523\n"
     ]
    },
    {
     "data": {
      "image/png": "[encoded data removed]",
      "text/plain": [
       "<Figure size 432x288 with 1 Axes>"
      ]
     },
     "metadata": {},
     "output_type": "display_data"
    }
   ],
   "source": [
    "# plt.scatter(sm['Avg Temperature'], sm['No of crimes'], color='r',alpha=0.5,s=5)\n",
    "plt.scatter(wn['Avg Temperature'], wn['No of crimes'], color='b',alpha=0.5,s=5)\n",
    "plt.xlabel('Winter Temperature')\n",
    "plt.ylabel('No of crimes')\n",
    "print(\"The average number of incidents in the winter months in Boston is:\", np.mean(wn['No of crimes']))"
   ]
  },
  {
   "cell_type": "code",
   "execution_count": 48,
   "metadata": {},
   "outputs": [
    {
     "name": "stdout",
     "output_type": "stream",
     "text": [
      "The average number of incidents in the summer months in Boston is: 282.5833333333333\n"
     ]
    },
    {
     "data": {
      "image/png": "[encoded data removed]",
      "text/plain": [
       "<Figure size 432x288 with 1 Axes>"
      ]
     },
     "metadata": {},
     "output_type": "display_data"
    }
   ],
   "source": [
    "plt.scatter(sm['Avg Temperature'], sm['No of crimes'], color='r',alpha=0.5,s=5)\n",
    "plt.xlabel('Summer Temperature')\n",
    "plt.ylabel('No of crimes')\n",
    "print(\"The average number of incidents in the summer months in Boston is:\", np.mean(sm['No of crimes']))"
   ]
  },
  {
   "cell_type": "code",
   "execution_count": null,
   "metadata": {},
   "outputs": [],
   "source": []
  }
 ],
 "metadata": {
  "kernelspec": {
   "display_name": "Python 3",
   "language": "python",
   "name": "python3"
  },
  "language_info": {
   "codemirror_mode": {
    "name": "ipython",
    "version": 3
   },
   "file_extension": ".py",
   "mimetype": "text/x-python",
   "name": "python",
   "nbconvert_exporter": "python",
   "pygments_lexer": "ipython3",
   "version": "3.7.3"
  }
 },
 "nbformat": 4,
 "nbformat_minor": 2
}
