{
 "cells": [
  {
   "cell_type": "code",
   "execution_count": 1,
   "metadata": {},
   "outputs": [],
   "source": [
    "import pandas as pd\n",
    "import numpy as np\n",
    "import matplotlib.pyplot as plt\n",
    "import seaborn as sns\n",
    "from sklearn.preprocessing import StandardScaler\n",
    "from sklearn.decomposition import PCA\n",
    "from sklearn.feature_selection import SelectFromModel\n",
    "from sklearn.model_selection import train_test_split\n",
    "from sklearn.metrics import confusion_matrix\n",
    "import datetime as dt\n",
    "from scipy import stats\n",
    "from sklearn import preprocessing\n",
    "from sklearn.linear_model import LinearRegression\n",
    "from sklearn.ensemble import RandomForestRegressor, GradientBoostingRegressor, AdaBoostRegressor\n",
    "from sklearn.tree import DecisionTreeRegressor"
   ]
  },
  {
   "cell_type": "code",
   "execution_count": 2,
   "metadata": {},
   "outputs": [
    {
     "data": {
      "text/html": [
       "<div>\n",
       "<style scoped>\n",
       "    .dataframe tbody tr th:only-of-type {\n",
       "        vertical-align: middle;\n",
       "    }\n",
       "\n",
       "    .dataframe tbody tr th {\n",
       "        vertical-align: top;\n",
       "    }\n",
       "\n",
       "    .dataframe thead th {\n",
       "        text-align: right;\n",
       "    }\n",
       "</style>\n",
       "<table border=\"1\" class=\"dataframe\">\n",
       "  <thead>\n",
       "    <tr style=\"text-align: right;\">\n",
       "      <th></th>\n",
       "      <th>date</th>\n",
       "      <th>Chicago</th>\n",
       "    </tr>\n",
       "  </thead>\n",
       "  <tbody>\n",
       "    <tr>\n",
       "      <th>0</th>\n",
       "      <td>2012-10-01</td>\n",
       "      <td>NaN</td>\n",
       "    </tr>\n",
       "    <tr>\n",
       "      <th>1</th>\n",
       "      <td>2012-10-01</td>\n",
       "      <td>71.0</td>\n",
       "    </tr>\n",
       "    <tr>\n",
       "      <th>2</th>\n",
       "      <td>2012-10-01</td>\n",
       "      <td>70.0</td>\n",
       "    </tr>\n",
       "    <tr>\n",
       "      <th>3</th>\n",
       "      <td>2012-10-01</td>\n",
       "      <td>70.0</td>\n",
       "    </tr>\n",
       "    <tr>\n",
       "      <th>4</th>\n",
       "      <td>2012-10-01</td>\n",
       "      <td>70.0</td>\n",
       "    </tr>\n",
       "  </tbody>\n",
       "</table>\n",
       "</div>"
      ],
      "text/plain": [
       "         date  Chicago\n",
       "0  2012-10-01      NaN\n",
       "1  2012-10-01     71.0\n",
       "2  2012-10-01     70.0\n",
       "3  2012-10-01     70.0\n",
       "4  2012-10-01     70.0"
      ]
     },
     "execution_count": 2,
     "metadata": {},
     "output_type": "execute_result"
    }
   ],
   "source": [
    "humidity=pd.read_csv(\"/Users/rudranibhadra/Downloads/historical-hourly-weather-data/humidity.csv\")\n",
    "humidity['datetime'] = pd.to_datetime(humidity['datetime'])\n",
    "humidity['date'] = humidity['datetime'].dt.date\n",
    "#humidity.head()\n",
    "chi_humidity=humidity.loc[:,[\"date\",\"Chicago\"]]\n",
    "chi_humidity.head()"
   ]
  },
  {
   "cell_type": "code",
   "execution_count": 3,
   "metadata": {},
   "outputs": [
    {
     "data": {
      "text/plain": [
       "date          0\n",
       "Chicago    1109\n",
       "dtype: int64"
      ]
     },
     "execution_count": 3,
     "metadata": {},
     "output_type": "execute_result"
    }
   ],
   "source": [
    "chi_humidity.isnull().sum()"
   ]
  },
  {
   "cell_type": "code",
   "execution_count": 4,
   "metadata": {},
   "outputs": [
    {
     "data": {
      "text/html": [
       "<div>\n",
       "<style scoped>\n",
       "    .dataframe tbody tr th:only-of-type {\n",
       "        vertical-align: middle;\n",
       "    }\n",
       "\n",
       "    .dataframe tbody tr th {\n",
       "        vertical-align: top;\n",
       "    }\n",
       "\n",
       "    .dataframe thead th {\n",
       "        text-align: right;\n",
       "    }\n",
       "</style>\n",
       "<table border=\"1\" class=\"dataframe\">\n",
       "  <thead>\n",
       "    <tr style=\"text-align: right;\">\n",
       "      <th></th>\n",
       "      <th>date</th>\n",
       "      <th>Chicago</th>\n",
       "    </tr>\n",
       "  </thead>\n",
       "  <tbody>\n",
       "    <tr>\n",
       "      <th>0</th>\n",
       "      <td>2012-10-01</td>\n",
       "      <td>NaN</td>\n",
       "    </tr>\n",
       "    <tr>\n",
       "      <th>1</th>\n",
       "      <td>2012-10-01</td>\n",
       "      <td>284.010000</td>\n",
       "    </tr>\n",
       "    <tr>\n",
       "      <th>2</th>\n",
       "      <td>2012-10-01</td>\n",
       "      <td>284.054691</td>\n",
       "    </tr>\n",
       "    <tr>\n",
       "      <th>3</th>\n",
       "      <td>2012-10-01</td>\n",
       "      <td>284.177412</td>\n",
       "    </tr>\n",
       "    <tr>\n",
       "      <th>4</th>\n",
       "      <td>2012-10-01</td>\n",
       "      <td>284.300133</td>\n",
       "    </tr>\n",
       "  </tbody>\n",
       "</table>\n",
       "</div>"
      ],
      "text/plain": [
       "         date     Chicago\n",
       "0  2012-10-01         NaN\n",
       "1  2012-10-01  284.010000\n",
       "2  2012-10-01  284.054691\n",
       "3  2012-10-01  284.177412\n",
       "4  2012-10-01  284.300133"
      ]
     },
     "execution_count": 4,
     "metadata": {},
     "output_type": "execute_result"
    }
   ],
   "source": [
    "temperature=pd.read_csv(\"/Users/rudranibhadra/Downloads/historical-hourly-weather-data/temperature.csv\")\n",
    "temperature['datetime'] = pd.to_datetime(temperature['datetime'])\n",
    "temperature['date'] = temperature['datetime'].dt.date\n",
    "temperature.head()\n",
    "chi_temp=temperature.loc[:,[\"date\",\"Chicago\"]]\n",
    "chi_temp.head()"
   ]
  },
  {
   "cell_type": "code",
   "execution_count": 5,
   "metadata": {},
   "outputs": [
    {
     "data": {
      "text/html": [
       "<div>\n",
       "<style scoped>\n",
       "    .dataframe tbody tr th:only-of-type {\n",
       "        vertical-align: middle;\n",
       "    }\n",
       "\n",
       "    .dataframe tbody tr th {\n",
       "        vertical-align: top;\n",
       "    }\n",
       "\n",
       "    .dataframe thead th {\n",
       "        text-align: right;\n",
       "    }\n",
       "</style>\n",
       "<table border=\"1\" class=\"dataframe\">\n",
       "  <thead>\n",
       "    <tr style=\"text-align: right;\">\n",
       "      <th></th>\n",
       "      <th>Unnamed: 0</th>\n",
       "      <th>ID</th>\n",
       "      <th>Case Number</th>\n",
       "      <th>Date</th>\n",
       "      <th>Block</th>\n",
       "      <th>IUCR</th>\n",
       "      <th>Primary Type</th>\n",
       "      <th>Description</th>\n",
       "      <th>Location Description</th>\n",
       "      <th>Arrest</th>\n",
       "      <th>...</th>\n",
       "      <th>Ward</th>\n",
       "      <th>Community Area</th>\n",
       "      <th>FBI Code</th>\n",
       "      <th>X Coordinate</th>\n",
       "      <th>Y Coordinate</th>\n",
       "      <th>Year</th>\n",
       "      <th>Updated On</th>\n",
       "      <th>Latitude</th>\n",
       "      <th>Longitude</th>\n",
       "      <th>Location</th>\n",
       "    </tr>\n",
       "  </thead>\n",
       "  <tbody>\n",
       "    <tr>\n",
       "      <th>0</th>\n",
       "      <td>3</td>\n",
       "      <td>10508693</td>\n",
       "      <td>HZ250496</td>\n",
       "      <td>05/03/2016 11:40:00 PM</td>\n",
       "      <td>013XX S SAWYER AVE</td>\n",
       "      <td>0486</td>\n",
       "      <td>BATTERY</td>\n",
       "      <td>DOMESTIC BATTERY SIMPLE</td>\n",
       "      <td>APARTMENT</td>\n",
       "      <td>True</td>\n",
       "      <td>...</td>\n",
       "      <td>24.0</td>\n",
       "      <td>29.0</td>\n",
       "      <td>08B</td>\n",
       "      <td>1154907.0</td>\n",
       "      <td>1893681.0</td>\n",
       "      <td>2016</td>\n",
       "      <td>05/10/2016 03:56:50 PM</td>\n",
       "      <td>41.864073</td>\n",
       "      <td>-87.706819</td>\n",
       "      <td>(41.864073157, -87.706818608)</td>\n",
       "    </tr>\n",
       "    <tr>\n",
       "      <th>1</th>\n",
       "      <td>89</td>\n",
       "      <td>10508695</td>\n",
       "      <td>HZ250409</td>\n",
       "      <td>05/03/2016 09:40:00 PM</td>\n",
       "      <td>061XX S DREXEL AVE</td>\n",
       "      <td>0486</td>\n",
       "      <td>BATTERY</td>\n",
       "      <td>DOMESTIC BATTERY SIMPLE</td>\n",
       "      <td>RESIDENCE</td>\n",
       "      <td>False</td>\n",
       "      <td>...</td>\n",
       "      <td>20.0</td>\n",
       "      <td>42.0</td>\n",
       "      <td>08B</td>\n",
       "      <td>1183066.0</td>\n",
       "      <td>1864330.0</td>\n",
       "      <td>2016</td>\n",
       "      <td>05/10/2016 03:56:50 PM</td>\n",
       "      <td>41.782922</td>\n",
       "      <td>-87.604363</td>\n",
       "      <td>(41.782921527, -87.60436317)</td>\n",
       "    </tr>\n",
       "    <tr>\n",
       "      <th>2</th>\n",
       "      <td>197</td>\n",
       "      <td>10508697</td>\n",
       "      <td>HZ250503</td>\n",
       "      <td>05/03/2016 11:31:00 PM</td>\n",
       "      <td>053XX W CHICAGO AVE</td>\n",
       "      <td>0470</td>\n",
       "      <td>PUBLIC PEACE VIOLATION</td>\n",
       "      <td>RECKLESS CONDUCT</td>\n",
       "      <td>STREET</td>\n",
       "      <td>False</td>\n",
       "      <td>...</td>\n",
       "      <td>37.0</td>\n",
       "      <td>25.0</td>\n",
       "      <td>24</td>\n",
       "      <td>1140789.0</td>\n",
       "      <td>1904819.0</td>\n",
       "      <td>2016</td>\n",
       "      <td>05/10/2016 03:56:50 PM</td>\n",
       "      <td>41.894908</td>\n",
       "      <td>-87.758372</td>\n",
       "      <td>(41.894908283, -87.758371958)</td>\n",
       "    </tr>\n",
       "    <tr>\n",
       "      <th>3</th>\n",
       "      <td>673</td>\n",
       "      <td>10508698</td>\n",
       "      <td>HZ250424</td>\n",
       "      <td>05/03/2016 10:10:00 PM</td>\n",
       "      <td>049XX W FULTON ST</td>\n",
       "      <td>0460</td>\n",
       "      <td>BATTERY</td>\n",
       "      <td>SIMPLE</td>\n",
       "      <td>SIDEWALK</td>\n",
       "      <td>False</td>\n",
       "      <td>...</td>\n",
       "      <td>28.0</td>\n",
       "      <td>25.0</td>\n",
       "      <td>08B</td>\n",
       "      <td>1143223.0</td>\n",
       "      <td>1901475.0</td>\n",
       "      <td>2016</td>\n",
       "      <td>05/10/2016 03:56:50 PM</td>\n",
       "      <td>41.885687</td>\n",
       "      <td>-87.749516</td>\n",
       "      <td>(41.885686845, -87.749515983)</td>\n",
       "    </tr>\n",
       "    <tr>\n",
       "      <th>4</th>\n",
       "      <td>911</td>\n",
       "      <td>10508699</td>\n",
       "      <td>HZ250455</td>\n",
       "      <td>05/03/2016 10:00:00 PM</td>\n",
       "      <td>003XX N LOTUS AVE</td>\n",
       "      <td>0820</td>\n",
       "      <td>THEFT</td>\n",
       "      <td>$500 AND UNDER</td>\n",
       "      <td>RESIDENCE</td>\n",
       "      <td>False</td>\n",
       "      <td>...</td>\n",
       "      <td>28.0</td>\n",
       "      <td>25.0</td>\n",
       "      <td>06</td>\n",
       "      <td>1139890.0</td>\n",
       "      <td>1901675.0</td>\n",
       "      <td>2016</td>\n",
       "      <td>05/10/2016 03:56:50 PM</td>\n",
       "      <td>41.886297</td>\n",
       "      <td>-87.761751</td>\n",
       "      <td>(41.886297242, -87.761750709)</td>\n",
       "    </tr>\n",
       "  </tbody>\n",
       "</table>\n",
       "<p>5 rows × 23 columns</p>\n",
       "</div>"
      ],
      "text/plain": [
       "   Unnamed: 0        ID Case Number                    Date  \\\n",
       "0           3  10508693    HZ250496  05/03/2016 11:40:00 PM   \n",
       "1          89  10508695    HZ250409  05/03/2016 09:40:00 PM   \n",
       "2         197  10508697    HZ250503  05/03/2016 11:31:00 PM   \n",
       "3         673  10508698    HZ250424  05/03/2016 10:10:00 PM   \n",
       "4         911  10508699    HZ250455  05/03/2016 10:00:00 PM   \n",
       "\n",
       "                 Block  IUCR            Primary Type              Description  \\\n",
       "0   013XX S SAWYER AVE  0486                 BATTERY  DOMESTIC BATTERY SIMPLE   \n",
       "1   061XX S DREXEL AVE  0486                 BATTERY  DOMESTIC BATTERY SIMPLE   \n",
       "2  053XX W CHICAGO AVE  0470  PUBLIC PEACE VIOLATION         RECKLESS CONDUCT   \n",
       "3    049XX W FULTON ST  0460                 BATTERY                   SIMPLE   \n",
       "4    003XX N LOTUS AVE  0820                   THEFT           $500 AND UNDER   \n",
       "\n",
       "  Location Description  Arrest  ...  Ward  Community Area  FBI Code  \\\n",
       "0            APARTMENT    True  ...  24.0            29.0       08B   \n",
       "1            RESIDENCE   False  ...  20.0            42.0       08B   \n",
       "2               STREET   False  ...  37.0            25.0        24   \n",
       "3             SIDEWALK   False  ...  28.0            25.0       08B   \n",
       "4            RESIDENCE   False  ...  28.0            25.0        06   \n",
       "\n",
       "   X Coordinate  Y Coordinate  Year              Updated On   Latitude  \\\n",
       "0     1154907.0     1893681.0  2016  05/10/2016 03:56:50 PM  41.864073   \n",
       "1     1183066.0     1864330.0  2016  05/10/2016 03:56:50 PM  41.782922   \n",
       "2     1140789.0     1904819.0  2016  05/10/2016 03:56:50 PM  41.894908   \n",
       "3     1143223.0     1901475.0  2016  05/10/2016 03:56:50 PM  41.885687   \n",
       "4     1139890.0     1901675.0  2016  05/10/2016 03:56:50 PM  41.886297   \n",
       "\n",
       "   Longitude                       Location  \n",
       "0 -87.706819  (41.864073157, -87.706818608)  \n",
       "1 -87.604363   (41.782921527, -87.60436317)  \n",
       "2 -87.758372  (41.894908283, -87.758371958)  \n",
       "3 -87.749516  (41.885686845, -87.749515983)  \n",
       "4 -87.761751  (41.886297242, -87.761750709)  \n",
       "\n",
       "[5 rows x 23 columns]"
      ]
     },
     "execution_count": 5,
     "metadata": {},
     "output_type": "execute_result"
    }
   ],
   "source": [
    "chi_crime=pd.read_csv(\"/Users/rudranibhadra/Downloads/Chicago_Crimes_2012_to_2017.csv\")\n",
    "chi_crime.head()"
   ]
  },
  {
   "cell_type": "code",
   "execution_count": 6,
   "metadata": {},
   "outputs": [
    {
     "name": "stdout",
     "output_type": "stream",
     "text": [
      "<class 'pandas.core.frame.DataFrame'>\n",
      "RangeIndex: 1456714 entries, 0 to 1456713\n",
      "Data columns (total 23 columns):\n",
      "Unnamed: 0              1456714 non-null int64\n",
      "ID                      1456714 non-null int64\n",
      "Case Number             1456713 non-null object\n",
      "Date                    1456714 non-null object\n",
      "Block                   1456714 non-null object\n",
      "IUCR                    1456714 non-null object\n",
      "Primary Type            1456714 non-null object\n",
      "Description             1456714 non-null object\n",
      "Location Description    1455056 non-null object\n",
      "Arrest                  1456714 non-null bool\n",
      "Domestic                1456714 non-null bool\n",
      "Beat                    1456714 non-null int64\n",
      "District                1456713 non-null float64\n",
      "Ward                    1456700 non-null float64\n",
      "Community Area          1456674 non-null float64\n",
      "FBI Code                1456714 non-null object\n",
      "X Coordinate            1419631 non-null float64\n",
      "Y Coordinate            1419631 non-null float64\n",
      "Year                    1456714 non-null int64\n",
      "Updated On              1456714 non-null object\n",
      "Latitude                1419631 non-null float64\n",
      "Longitude               1419631 non-null float64\n",
      "Location                1419631 non-null object\n",
      "dtypes: bool(2), float64(7), int64(4), object(10)\n",
      "memory usage: 236.2+ MB\n"
     ]
    }
   ],
   "source": [
    "chi_crime.info()"
   ]
  },
  {
   "cell_type": "code",
   "execution_count": 7,
   "metadata": {},
   "outputs": [],
   "source": [
    "chi_crime['Date'] = pd.to_datetime(chi_crime['Date'])"
   ]
  },
  {
   "cell_type": "code",
   "execution_count": 8,
   "metadata": {},
   "outputs": [
    {
     "data": {
      "text/html": [
       "<div>\n",
       "<style scoped>\n",
       "    .dataframe tbody tr th:only-of-type {\n",
       "        vertical-align: middle;\n",
       "    }\n",
       "\n",
       "    .dataframe tbody tr th {\n",
       "        vertical-align: top;\n",
       "    }\n",
       "\n",
       "    .dataframe thead th {\n",
       "        text-align: right;\n",
       "    }\n",
       "</style>\n",
       "<table border=\"1\" class=\"dataframe\">\n",
       "  <thead>\n",
       "    <tr style=\"text-align: right;\">\n",
       "      <th></th>\n",
       "      <th>Unnamed: 0</th>\n",
       "      <th>ID</th>\n",
       "      <th>Case Number</th>\n",
       "      <th>Date</th>\n",
       "      <th>Block</th>\n",
       "      <th>IUCR</th>\n",
       "      <th>Primary Type</th>\n",
       "      <th>Description</th>\n",
       "      <th>Location Description</th>\n",
       "      <th>Arrest</th>\n",
       "      <th>...</th>\n",
       "      <th>Ward</th>\n",
       "      <th>Community Area</th>\n",
       "      <th>FBI Code</th>\n",
       "      <th>X Coordinate</th>\n",
       "      <th>Y Coordinate</th>\n",
       "      <th>Year</th>\n",
       "      <th>Updated On</th>\n",
       "      <th>Latitude</th>\n",
       "      <th>Longitude</th>\n",
       "      <th>Location</th>\n",
       "    </tr>\n",
       "  </thead>\n",
       "  <tbody>\n",
       "    <tr>\n",
       "      <th>0</th>\n",
       "      <td>3</td>\n",
       "      <td>10508693</td>\n",
       "      <td>HZ250496</td>\n",
       "      <td>2016-05-03 23:40:00</td>\n",
       "      <td>013XX S SAWYER AVE</td>\n",
       "      <td>0486</td>\n",
       "      <td>BATTERY</td>\n",
       "      <td>DOMESTIC BATTERY SIMPLE</td>\n",
       "      <td>APARTMENT</td>\n",
       "      <td>True</td>\n",
       "      <td>...</td>\n",
       "      <td>24.0</td>\n",
       "      <td>29.0</td>\n",
       "      <td>08B</td>\n",
       "      <td>1154907.0</td>\n",
       "      <td>1893681.0</td>\n",
       "      <td>2016</td>\n",
       "      <td>05/10/2016 03:56:50 PM</td>\n",
       "      <td>41.864073</td>\n",
       "      <td>-87.706819</td>\n",
       "      <td>(41.864073157, -87.706818608)</td>\n",
       "    </tr>\n",
       "    <tr>\n",
       "      <th>1</th>\n",
       "      <td>89</td>\n",
       "      <td>10508695</td>\n",
       "      <td>HZ250409</td>\n",
       "      <td>2016-05-03 21:40:00</td>\n",
       "      <td>061XX S DREXEL AVE</td>\n",
       "      <td>0486</td>\n",
       "      <td>BATTERY</td>\n",
       "      <td>DOMESTIC BATTERY SIMPLE</td>\n",
       "      <td>RESIDENCE</td>\n",
       "      <td>False</td>\n",
       "      <td>...</td>\n",
       "      <td>20.0</td>\n",
       "      <td>42.0</td>\n",
       "      <td>08B</td>\n",
       "      <td>1183066.0</td>\n",
       "      <td>1864330.0</td>\n",
       "      <td>2016</td>\n",
       "      <td>05/10/2016 03:56:50 PM</td>\n",
       "      <td>41.782922</td>\n",
       "      <td>-87.604363</td>\n",
       "      <td>(41.782921527, -87.60436317)</td>\n",
       "    </tr>\n",
       "    <tr>\n",
       "      <th>2</th>\n",
       "      <td>197</td>\n",
       "      <td>10508697</td>\n",
       "      <td>HZ250503</td>\n",
       "      <td>2016-05-03 23:31:00</td>\n",
       "      <td>053XX W CHICAGO AVE</td>\n",
       "      <td>0470</td>\n",
       "      <td>PUBLIC PEACE VIOLATION</td>\n",
       "      <td>RECKLESS CONDUCT</td>\n",
       "      <td>STREET</td>\n",
       "      <td>False</td>\n",
       "      <td>...</td>\n",
       "      <td>37.0</td>\n",
       "      <td>25.0</td>\n",
       "      <td>24</td>\n",
       "      <td>1140789.0</td>\n",
       "      <td>1904819.0</td>\n",
       "      <td>2016</td>\n",
       "      <td>05/10/2016 03:56:50 PM</td>\n",
       "      <td>41.894908</td>\n",
       "      <td>-87.758372</td>\n",
       "      <td>(41.894908283, -87.758371958)</td>\n",
       "    </tr>\n",
       "    <tr>\n",
       "      <th>3</th>\n",
       "      <td>673</td>\n",
       "      <td>10508698</td>\n",
       "      <td>HZ250424</td>\n",
       "      <td>2016-05-03 22:10:00</td>\n",
       "      <td>049XX W FULTON ST</td>\n",
       "      <td>0460</td>\n",
       "      <td>BATTERY</td>\n",
       "      <td>SIMPLE</td>\n",
       "      <td>SIDEWALK</td>\n",
       "      <td>False</td>\n",
       "      <td>...</td>\n",
       "      <td>28.0</td>\n",
       "      <td>25.0</td>\n",
       "      <td>08B</td>\n",
       "      <td>1143223.0</td>\n",
       "      <td>1901475.0</td>\n",
       "      <td>2016</td>\n",
       "      <td>05/10/2016 03:56:50 PM</td>\n",
       "      <td>41.885687</td>\n",
       "      <td>-87.749516</td>\n",
       "      <td>(41.885686845, -87.749515983)</td>\n",
       "    </tr>\n",
       "    <tr>\n",
       "      <th>4</th>\n",
       "      <td>911</td>\n",
       "      <td>10508699</td>\n",
       "      <td>HZ250455</td>\n",
       "      <td>2016-05-03 22:00:00</td>\n",
       "      <td>003XX N LOTUS AVE</td>\n",
       "      <td>0820</td>\n",
       "      <td>THEFT</td>\n",
       "      <td>$500 AND UNDER</td>\n",
       "      <td>RESIDENCE</td>\n",
       "      <td>False</td>\n",
       "      <td>...</td>\n",
       "      <td>28.0</td>\n",
       "      <td>25.0</td>\n",
       "      <td>06</td>\n",
       "      <td>1139890.0</td>\n",
       "      <td>1901675.0</td>\n",
       "      <td>2016</td>\n",
       "      <td>05/10/2016 03:56:50 PM</td>\n",
       "      <td>41.886297</td>\n",
       "      <td>-87.761751</td>\n",
       "      <td>(41.886297242, -87.761750709)</td>\n",
       "    </tr>\n",
       "  </tbody>\n",
       "</table>\n",
       "<p>5 rows × 23 columns</p>\n",
       "</div>"
      ],
      "text/plain": [
       "   Unnamed: 0        ID Case Number                Date                Block  \\\n",
       "0           3  10508693    HZ250496 2016-05-03 23:40:00   013XX S SAWYER AVE   \n",
       "1          89  10508695    HZ250409 2016-05-03 21:40:00   061XX S DREXEL AVE   \n",
       "2         197  10508697    HZ250503 2016-05-03 23:31:00  053XX W CHICAGO AVE   \n",
       "3         673  10508698    HZ250424 2016-05-03 22:10:00    049XX W FULTON ST   \n",
       "4         911  10508699    HZ250455 2016-05-03 22:00:00    003XX N LOTUS AVE   \n",
       "\n",
       "   IUCR            Primary Type              Description Location Description  \\\n",
       "0  0486                 BATTERY  DOMESTIC BATTERY SIMPLE            APARTMENT   \n",
       "1  0486                 BATTERY  DOMESTIC BATTERY SIMPLE            RESIDENCE   \n",
       "2  0470  PUBLIC PEACE VIOLATION         RECKLESS CONDUCT               STREET   \n",
       "3  0460                 BATTERY                   SIMPLE             SIDEWALK   \n",
       "4  0820                   THEFT           $500 AND UNDER            RESIDENCE   \n",
       "\n",
       "   Arrest  ...  Ward  Community Area  FBI Code  X Coordinate  Y Coordinate  \\\n",
       "0    True  ...  24.0            29.0       08B     1154907.0     1893681.0   \n",
       "1   False  ...  20.0            42.0       08B     1183066.0     1864330.0   \n",
       "2   False  ...  37.0            25.0        24     1140789.0     1904819.0   \n",
       "3   False  ...  28.0            25.0       08B     1143223.0     1901475.0   \n",
       "4   False  ...  28.0            25.0        06     1139890.0     1901675.0   \n",
       "\n",
       "   Year              Updated On   Latitude  Longitude  \\\n",
       "0  2016  05/10/2016 03:56:50 PM  41.864073 -87.706819   \n",
       "1  2016  05/10/2016 03:56:50 PM  41.782922 -87.604363   \n",
       "2  2016  05/10/2016 03:56:50 PM  41.894908 -87.758372   \n",
       "3  2016  05/10/2016 03:56:50 PM  41.885687 -87.749516   \n",
       "4  2016  05/10/2016 03:56:50 PM  41.886297 -87.761751   \n",
       "\n",
       "                        Location  \n",
       "0  (41.864073157, -87.706818608)  \n",
       "1   (41.782921527, -87.60436317)  \n",
       "2  (41.894908283, -87.758371958)  \n",
       "3  (41.885686845, -87.749515983)  \n",
       "4  (41.886297242, -87.761750709)  \n",
       "\n",
       "[5 rows x 23 columns]"
      ]
     },
     "execution_count": 8,
     "metadata": {},
     "output_type": "execute_result"
    }
   ],
   "source": [
    "chi_crime.head()"
   ]
  },
  {
   "cell_type": "code",
   "execution_count": 9,
   "metadata": {},
   "outputs": [],
   "source": [
    "chi_crime['date'] = [d.date() for d in chi_crime['Date']] "
   ]
  },
  {
   "cell_type": "code",
   "execution_count": 10,
   "metadata": {},
   "outputs": [
    {
     "data": {
      "text/html": [
       "<div>\n",
       "<style scoped>\n",
       "    .dataframe tbody tr th:only-of-type {\n",
       "        vertical-align: middle;\n",
       "    }\n",
       "\n",
       "    .dataframe tbody tr th {\n",
       "        vertical-align: top;\n",
       "    }\n",
       "\n",
       "    .dataframe thead th {\n",
       "        text-align: right;\n",
       "    }\n",
       "</style>\n",
       "<table border=\"1\" class=\"dataframe\">\n",
       "  <thead>\n",
       "    <tr style=\"text-align: right;\">\n",
       "      <th></th>\n",
       "      <th>Unnamed: 0</th>\n",
       "      <th>ID</th>\n",
       "      <th>Case Number</th>\n",
       "      <th>Date</th>\n",
       "      <th>Block</th>\n",
       "      <th>IUCR</th>\n",
       "      <th>Primary Type</th>\n",
       "      <th>Description</th>\n",
       "      <th>Location Description</th>\n",
       "      <th>Arrest</th>\n",
       "      <th>...</th>\n",
       "      <th>Community Area</th>\n",
       "      <th>FBI Code</th>\n",
       "      <th>X Coordinate</th>\n",
       "      <th>Y Coordinate</th>\n",
       "      <th>Year</th>\n",
       "      <th>Updated On</th>\n",
       "      <th>Latitude</th>\n",
       "      <th>Longitude</th>\n",
       "      <th>Location</th>\n",
       "      <th>date</th>\n",
       "    </tr>\n",
       "  </thead>\n",
       "  <tbody>\n",
       "    <tr>\n",
       "      <th>0</th>\n",
       "      <td>3</td>\n",
       "      <td>10508693</td>\n",
       "      <td>HZ250496</td>\n",
       "      <td>2016-05-03 23:40:00</td>\n",
       "      <td>013XX S SAWYER AVE</td>\n",
       "      <td>0486</td>\n",
       "      <td>BATTERY</td>\n",
       "      <td>DOMESTIC BATTERY SIMPLE</td>\n",
       "      <td>APARTMENT</td>\n",
       "      <td>True</td>\n",
       "      <td>...</td>\n",
       "      <td>29.0</td>\n",
       "      <td>08B</td>\n",
       "      <td>1154907.0</td>\n",
       "      <td>1893681.0</td>\n",
       "      <td>2016</td>\n",
       "      <td>05/10/2016 03:56:50 PM</td>\n",
       "      <td>41.864073</td>\n",
       "      <td>-87.706819</td>\n",
       "      <td>(41.864073157, -87.706818608)</td>\n",
       "      <td>2016-05-03</td>\n",
       "    </tr>\n",
       "    <tr>\n",
       "      <th>1</th>\n",
       "      <td>89</td>\n",
       "      <td>10508695</td>\n",
       "      <td>HZ250409</td>\n",
       "      <td>2016-05-03 21:40:00</td>\n",
       "      <td>061XX S DREXEL AVE</td>\n",
       "      <td>0486</td>\n",
       "      <td>BATTERY</td>\n",
       "      <td>DOMESTIC BATTERY SIMPLE</td>\n",
       "      <td>RESIDENCE</td>\n",
       "      <td>False</td>\n",
       "      <td>...</td>\n",
       "      <td>42.0</td>\n",
       "      <td>08B</td>\n",
       "      <td>1183066.0</td>\n",
       "      <td>1864330.0</td>\n",
       "      <td>2016</td>\n",
       "      <td>05/10/2016 03:56:50 PM</td>\n",
       "      <td>41.782922</td>\n",
       "      <td>-87.604363</td>\n",
       "      <td>(41.782921527, -87.60436317)</td>\n",
       "      <td>2016-05-03</td>\n",
       "    </tr>\n",
       "    <tr>\n",
       "      <th>2</th>\n",
       "      <td>197</td>\n",
       "      <td>10508697</td>\n",
       "      <td>HZ250503</td>\n",
       "      <td>2016-05-03 23:31:00</td>\n",
       "      <td>053XX W CHICAGO AVE</td>\n",
       "      <td>0470</td>\n",
       "      <td>PUBLIC PEACE VIOLATION</td>\n",
       "      <td>RECKLESS CONDUCT</td>\n",
       "      <td>STREET</td>\n",
       "      <td>False</td>\n",
       "      <td>...</td>\n",
       "      <td>25.0</td>\n",
       "      <td>24</td>\n",
       "      <td>1140789.0</td>\n",
       "      <td>1904819.0</td>\n",
       "      <td>2016</td>\n",
       "      <td>05/10/2016 03:56:50 PM</td>\n",
       "      <td>41.894908</td>\n",
       "      <td>-87.758372</td>\n",
       "      <td>(41.894908283, -87.758371958)</td>\n",
       "      <td>2016-05-03</td>\n",
       "    </tr>\n",
       "    <tr>\n",
       "      <th>3</th>\n",
       "      <td>673</td>\n",
       "      <td>10508698</td>\n",
       "      <td>HZ250424</td>\n",
       "      <td>2016-05-03 22:10:00</td>\n",
       "      <td>049XX W FULTON ST</td>\n",
       "      <td>0460</td>\n",
       "      <td>BATTERY</td>\n",
       "      <td>SIMPLE</td>\n",
       "      <td>SIDEWALK</td>\n",
       "      <td>False</td>\n",
       "      <td>...</td>\n",
       "      <td>25.0</td>\n",
       "      <td>08B</td>\n",
       "      <td>1143223.0</td>\n",
       "      <td>1901475.0</td>\n",
       "      <td>2016</td>\n",
       "      <td>05/10/2016 03:56:50 PM</td>\n",
       "      <td>41.885687</td>\n",
       "      <td>-87.749516</td>\n",
       "      <td>(41.885686845, -87.749515983)</td>\n",
       "      <td>2016-05-03</td>\n",
       "    </tr>\n",
       "    <tr>\n",
       "      <th>4</th>\n",
       "      <td>911</td>\n",
       "      <td>10508699</td>\n",
       "      <td>HZ250455</td>\n",
       "      <td>2016-05-03 22:00:00</td>\n",
       "      <td>003XX N LOTUS AVE</td>\n",
       "      <td>0820</td>\n",
       "      <td>THEFT</td>\n",
       "      <td>$500 AND UNDER</td>\n",
       "      <td>RESIDENCE</td>\n",
       "      <td>False</td>\n",
       "      <td>...</td>\n",
       "      <td>25.0</td>\n",
       "      <td>06</td>\n",
       "      <td>1139890.0</td>\n",
       "      <td>1901675.0</td>\n",
       "      <td>2016</td>\n",
       "      <td>05/10/2016 03:56:50 PM</td>\n",
       "      <td>41.886297</td>\n",
       "      <td>-87.761751</td>\n",
       "      <td>(41.886297242, -87.761750709)</td>\n",
       "      <td>2016-05-03</td>\n",
       "    </tr>\n",
       "  </tbody>\n",
       "</table>\n",
       "<p>5 rows × 24 columns</p>\n",
       "</div>"
      ],
      "text/plain": [
       "   Unnamed: 0        ID Case Number                Date                Block  \\\n",
       "0           3  10508693    HZ250496 2016-05-03 23:40:00   013XX S SAWYER AVE   \n",
       "1          89  10508695    HZ250409 2016-05-03 21:40:00   061XX S DREXEL AVE   \n",
       "2         197  10508697    HZ250503 2016-05-03 23:31:00  053XX W CHICAGO AVE   \n",
       "3         673  10508698    HZ250424 2016-05-03 22:10:00    049XX W FULTON ST   \n",
       "4         911  10508699    HZ250455 2016-05-03 22:00:00    003XX N LOTUS AVE   \n",
       "\n",
       "   IUCR            Primary Type              Description Location Description  \\\n",
       "0  0486                 BATTERY  DOMESTIC BATTERY SIMPLE            APARTMENT   \n",
       "1  0486                 BATTERY  DOMESTIC BATTERY SIMPLE            RESIDENCE   \n",
       "2  0470  PUBLIC PEACE VIOLATION         RECKLESS CONDUCT               STREET   \n",
       "3  0460                 BATTERY                   SIMPLE             SIDEWALK   \n",
       "4  0820                   THEFT           $500 AND UNDER            RESIDENCE   \n",
       "\n",
       "   Arrest  ...  Community Area  FBI Code  X Coordinate  Y Coordinate  Year  \\\n",
       "0    True  ...            29.0       08B     1154907.0     1893681.0  2016   \n",
       "1   False  ...            42.0       08B     1183066.0     1864330.0  2016   \n",
       "2   False  ...            25.0        24     1140789.0     1904819.0  2016   \n",
       "3   False  ...            25.0       08B     1143223.0     1901475.0  2016   \n",
       "4   False  ...            25.0        06     1139890.0     1901675.0  2016   \n",
       "\n",
       "               Updated On   Latitude  Longitude  \\\n",
       "0  05/10/2016 03:56:50 PM  41.864073 -87.706819   \n",
       "1  05/10/2016 03:56:50 PM  41.782922 -87.604363   \n",
       "2  05/10/2016 03:56:50 PM  41.894908 -87.758372   \n",
       "3  05/10/2016 03:56:50 PM  41.885687 -87.749516   \n",
       "4  05/10/2016 03:56:50 PM  41.886297 -87.761751   \n",
       "\n",
       "                        Location        date  \n",
       "0  (41.864073157, -87.706818608)  2016-05-03  \n",
       "1   (41.782921527, -87.60436317)  2016-05-03  \n",
       "2  (41.894908283, -87.758371958)  2016-05-03  \n",
       "3  (41.885686845, -87.749515983)  2016-05-03  \n",
       "4  (41.886297242, -87.761750709)  2016-05-03  \n",
       "\n",
       "[5 rows x 24 columns]"
      ]
     },
     "execution_count": 10,
     "metadata": {},
     "output_type": "execute_result"
    }
   ],
   "source": [
    "chi_crime.head()"
   ]
  },
  {
   "cell_type": "code",
   "execution_count": 11,
   "metadata": {},
   "outputs": [],
   "source": [
    "chi_temp=chi_temp.groupby(['date'])['Chicago'].mean().reset_index()"
   ]
  },
  {
   "cell_type": "code",
   "execution_count": 12,
   "metadata": {},
   "outputs": [
    {
     "data": {
      "text/html": [
       "<div>\n",
       "<style scoped>\n",
       "    .dataframe tbody tr th:only-of-type {\n",
       "        vertical-align: middle;\n",
       "    }\n",
       "\n",
       "    .dataframe tbody tr th {\n",
       "        vertical-align: top;\n",
       "    }\n",
       "\n",
       "    .dataframe thead th {\n",
       "        text-align: right;\n",
       "    }\n",
       "</style>\n",
       "<table border=\"1\" class=\"dataframe\">\n",
       "  <thead>\n",
       "    <tr style=\"text-align: right;\">\n",
       "      <th></th>\n",
       "      <th>date</th>\n",
       "      <th>Chicago</th>\n",
       "    </tr>\n",
       "  </thead>\n",
       "  <tbody>\n",
       "    <tr>\n",
       "      <th>0</th>\n",
       "      <td>2012-10-01</td>\n",
       "      <td>284.552669</td>\n",
       "    </tr>\n",
       "    <tr>\n",
       "      <th>1</th>\n",
       "      <td>2012-10-02</td>\n",
       "      <td>287.713511</td>\n",
       "    </tr>\n",
       "    <tr>\n",
       "      <th>2</th>\n",
       "      <td>2012-10-03</td>\n",
       "      <td>289.127917</td>\n",
       "    </tr>\n",
       "    <tr>\n",
       "      <th>3</th>\n",
       "      <td>2012-10-04</td>\n",
       "      <td>290.032500</td>\n",
       "    </tr>\n",
       "    <tr>\n",
       "      <th>4</th>\n",
       "      <td>2012-10-05</td>\n",
       "      <td>291.207500</td>\n",
       "    </tr>\n",
       "  </tbody>\n",
       "</table>\n",
       "</div>"
      ],
      "text/plain": [
       "         date     Chicago\n",
       "0  2012-10-01  284.552669\n",
       "1  2012-10-02  287.713511\n",
       "2  2012-10-03  289.127917\n",
       "3  2012-10-04  290.032500\n",
       "4  2012-10-05  291.207500"
      ]
     },
     "execution_count": 12,
     "metadata": {},
     "output_type": "execute_result"
    }
   ],
   "source": [
    "chi_temp.head()"
   ]
  },
  {
   "cell_type": "code",
   "execution_count": 13,
   "metadata": {},
   "outputs": [],
   "source": [
    "df1 = chi_crime.groupby(chi_crime['date']).size().reset_index(name='No of crimes')"
   ]
  },
  {
   "cell_type": "code",
   "execution_count": 14,
   "metadata": {},
   "outputs": [
    {
     "data": {
      "text/html": [
       "<div>\n",
       "<style scoped>\n",
       "    .dataframe tbody tr th:only-of-type {\n",
       "        vertical-align: middle;\n",
       "    }\n",
       "\n",
       "    .dataframe tbody tr th {\n",
       "        vertical-align: top;\n",
       "    }\n",
       "\n",
       "    .dataframe thead th {\n",
       "        text-align: right;\n",
       "    }\n",
       "</style>\n",
       "<table border=\"1\" class=\"dataframe\">\n",
       "  <thead>\n",
       "    <tr style=\"text-align: right;\">\n",
       "      <th></th>\n",
       "      <th>date</th>\n",
       "      <th>No of crimes</th>\n",
       "    </tr>\n",
       "  </thead>\n",
       "  <tbody>\n",
       "    <tr>\n",
       "      <th>0</th>\n",
       "      <td>2012-01-01</td>\n",
       "      <td>1451</td>\n",
       "    </tr>\n",
       "    <tr>\n",
       "      <th>1</th>\n",
       "      <td>2012-01-02</td>\n",
       "      <td>700</td>\n",
       "    </tr>\n",
       "    <tr>\n",
       "      <th>2</th>\n",
       "      <td>2012-01-03</td>\n",
       "      <td>805</td>\n",
       "    </tr>\n",
       "    <tr>\n",
       "      <th>3</th>\n",
       "      <td>2012-01-04</td>\n",
       "      <td>799</td>\n",
       "    </tr>\n",
       "    <tr>\n",
       "      <th>4</th>\n",
       "      <td>2012-01-05</td>\n",
       "      <td>871</td>\n",
       "    </tr>\n",
       "  </tbody>\n",
       "</table>\n",
       "</div>"
      ],
      "text/plain": [
       "         date  No of crimes\n",
       "0  2012-01-01          1451\n",
       "1  2012-01-02           700\n",
       "2  2012-01-03           805\n",
       "3  2012-01-04           799\n",
       "4  2012-01-05           871"
      ]
     },
     "execution_count": 14,
     "metadata": {},
     "output_type": "execute_result"
    }
   ],
   "source": [
    "df1.head()"
   ]
  },
  {
   "cell_type": "code",
   "execution_count": 15,
   "metadata": {},
   "outputs": [],
   "source": [
    "data=pd.merge(chi_temp,df1, on='date')"
   ]
  },
  {
   "cell_type": "code",
   "execution_count": 16,
   "metadata": {},
   "outputs": [
    {
     "data": {
      "text/html": [
       "<div>\n",
       "<style scoped>\n",
       "    .dataframe tbody tr th:only-of-type {\n",
       "        vertical-align: middle;\n",
       "    }\n",
       "\n",
       "    .dataframe tbody tr th {\n",
       "        vertical-align: top;\n",
       "    }\n",
       "\n",
       "    .dataframe thead th {\n",
       "        text-align: right;\n",
       "    }\n",
       "</style>\n",
       "<table border=\"1\" class=\"dataframe\">\n",
       "  <thead>\n",
       "    <tr style=\"text-align: right;\">\n",
       "      <th></th>\n",
       "      <th>date</th>\n",
       "      <th>Chicago</th>\n",
       "      <th>No of crimes</th>\n",
       "    </tr>\n",
       "  </thead>\n",
       "  <tbody>\n",
       "    <tr>\n",
       "      <th>0</th>\n",
       "      <td>2012-10-01</td>\n",
       "      <td>284.552669</td>\n",
       "      <td>1046</td>\n",
       "    </tr>\n",
       "    <tr>\n",
       "      <th>1</th>\n",
       "      <td>2012-10-02</td>\n",
       "      <td>287.713511</td>\n",
       "      <td>905</td>\n",
       "    </tr>\n",
       "    <tr>\n",
       "      <th>2</th>\n",
       "      <td>2012-10-03</td>\n",
       "      <td>289.127917</td>\n",
       "      <td>919</td>\n",
       "    </tr>\n",
       "    <tr>\n",
       "      <th>3</th>\n",
       "      <td>2012-10-04</td>\n",
       "      <td>290.032500</td>\n",
       "      <td>879</td>\n",
       "    </tr>\n",
       "    <tr>\n",
       "      <th>4</th>\n",
       "      <td>2012-10-05</td>\n",
       "      <td>291.207500</td>\n",
       "      <td>914</td>\n",
       "    </tr>\n",
       "  </tbody>\n",
       "</table>\n",
       "</div>"
      ],
      "text/plain": [
       "         date     Chicago  No of crimes\n",
       "0  2012-10-01  284.552669          1046\n",
       "1  2012-10-02  287.713511           905\n",
       "2  2012-10-03  289.127917           919\n",
       "3  2012-10-04  290.032500           879\n",
       "4  2012-10-05  291.207500           914"
      ]
     },
     "execution_count": 16,
     "metadata": {},
     "output_type": "execute_result"
    }
   ],
   "source": [
    "data.head()"
   ]
  },
  {
   "cell_type": "code",
   "execution_count": 17,
   "metadata": {},
   "outputs": [],
   "source": [
    "data.rename(columns={'Chicago': 'Avg Temperature'}, inplace=True)"
   ]
  },
  {
   "cell_type": "code",
   "execution_count": 18,
   "metadata": {},
   "outputs": [
    {
     "data": {
      "text/plain": [
       "date               0\n",
       "Avg Temperature    0\n",
       "No of crimes       0\n",
       "dtype: int64"
      ]
     },
     "execution_count": 18,
     "metadata": {},
     "output_type": "execute_result"
    }
   ],
   "source": [
    "data.isnull().sum()"
   ]
  },
  {
   "cell_type": "code",
   "execution_count": 19,
   "metadata": {},
   "outputs": [
    {
     "name": "stdout",
     "output_type": "stream",
     "text": [
      "<class 'pandas.core.frame.DataFrame'>\n",
      "Int64Index: 1571 entries, 0 to 1570\n",
      "Data columns (total 3 columns):\n",
      "date               1571 non-null object\n",
      "Avg Temperature    1571 non-null float64\n",
      "No of crimes       1571 non-null int64\n",
      "dtypes: float64(1), int64(1), object(1)\n",
      "memory usage: 49.1+ KB\n"
     ]
    }
   ],
   "source": [
    "data.info()"
   ]
  },
  {
   "cell_type": "code",
   "execution_count": 20,
   "metadata": {},
   "outputs": [],
   "source": [
    "# plt.scatter(data['Avg Temperature'],data['No of crimes'],color='b',alpha=0.2,s=1)\n",
    "# plt.xlabel('Avg Temperature')\n",
    "# plt.ylabel('No of crimes')\n",
    "# plt.show()"
   ]
  },
  {
   "cell_type": "code",
   "execution_count": 21,
   "metadata": {},
   "outputs": [
    {
     "data": {
      "text/html": [
       "<div>\n",
       "<style scoped>\n",
       "    .dataframe tbody tr th:only-of-type {\n",
       "        vertical-align: middle;\n",
       "    }\n",
       "\n",
       "    .dataframe tbody tr th {\n",
       "        vertical-align: top;\n",
       "    }\n",
       "\n",
       "    .dataframe thead th {\n",
       "        text-align: right;\n",
       "    }\n",
       "</style>\n",
       "<table border=\"1\" class=\"dataframe\">\n",
       "  <thead>\n",
       "    <tr style=\"text-align: right;\">\n",
       "      <th></th>\n",
       "      <th>date</th>\n",
       "      <th>Chicago</th>\n",
       "    </tr>\n",
       "  </thead>\n",
       "  <tbody>\n",
       "    <tr>\n",
       "      <th>0</th>\n",
       "      <td>2012-10-01</td>\n",
       "      <td>NaN</td>\n",
       "    </tr>\n",
       "    <tr>\n",
       "      <th>1</th>\n",
       "      <td>2012-10-01</td>\n",
       "      <td>1014.0</td>\n",
       "    </tr>\n",
       "    <tr>\n",
       "      <th>2</th>\n",
       "      <td>2012-10-01</td>\n",
       "      <td>1014.0</td>\n",
       "    </tr>\n",
       "    <tr>\n",
       "      <th>3</th>\n",
       "      <td>2012-10-01</td>\n",
       "      <td>1014.0</td>\n",
       "    </tr>\n",
       "    <tr>\n",
       "      <th>4</th>\n",
       "      <td>2012-10-01</td>\n",
       "      <td>1014.0</td>\n",
       "    </tr>\n",
       "  </tbody>\n",
       "</table>\n",
       "</div>"
      ],
      "text/plain": [
       "         date  Chicago\n",
       "0  2012-10-01      NaN\n",
       "1  2012-10-01   1014.0\n",
       "2  2012-10-01   1014.0\n",
       "3  2012-10-01   1014.0\n",
       "4  2012-10-01   1014.0"
      ]
     },
     "execution_count": 21,
     "metadata": {},
     "output_type": "execute_result"
    }
   ],
   "source": [
    "pressure=pd.read_csv(\"/Users/rudranibhadra/Downloads/historical-hourly-weather-data/pressure.csv\")\n",
    "pressure['datetime'] = pd.to_datetime(pressure['datetime'])\n",
    "pressure['date'] = pressure['datetime'].dt.date\n",
    "#pressure.head()\n",
    "chi_pressure=pressure.loc[:,[\"date\",\"Chicago\"]]\n",
    "chi_pressure.head()"
   ]
  },
  {
   "cell_type": "code",
   "execution_count": 22,
   "metadata": {},
   "outputs": [
    {
     "data": {
      "text/html": [
       "<div>\n",
       "<style scoped>\n",
       "    .dataframe tbody tr th:only-of-type {\n",
       "        vertical-align: middle;\n",
       "    }\n",
       "\n",
       "    .dataframe tbody tr th {\n",
       "        vertical-align: top;\n",
       "    }\n",
       "\n",
       "    .dataframe thead th {\n",
       "        text-align: right;\n",
       "    }\n",
       "</style>\n",
       "<table border=\"1\" class=\"dataframe\">\n",
       "  <thead>\n",
       "    <tr style=\"text-align: right;\">\n",
       "      <th></th>\n",
       "      <th>date</th>\n",
       "      <th>Chicago</th>\n",
       "    </tr>\n",
       "  </thead>\n",
       "  <tbody>\n",
       "    <tr>\n",
       "      <th>0</th>\n",
       "      <td>2012-10-01</td>\n",
       "      <td>NaN</td>\n",
       "    </tr>\n",
       "    <tr>\n",
       "      <th>1</th>\n",
       "      <td>2012-10-01</td>\n",
       "      <td>71.0</td>\n",
       "    </tr>\n",
       "    <tr>\n",
       "      <th>2</th>\n",
       "      <td>2012-10-01</td>\n",
       "      <td>70.0</td>\n",
       "    </tr>\n",
       "    <tr>\n",
       "      <th>3</th>\n",
       "      <td>2012-10-01</td>\n",
       "      <td>70.0</td>\n",
       "    </tr>\n",
       "    <tr>\n",
       "      <th>4</th>\n",
       "      <td>2012-10-01</td>\n",
       "      <td>70.0</td>\n",
       "    </tr>\n",
       "  </tbody>\n",
       "</table>\n",
       "</div>"
      ],
      "text/plain": [
       "         date  Chicago\n",
       "0  2012-10-01      NaN\n",
       "1  2012-10-01     71.0\n",
       "2  2012-10-01     70.0\n",
       "3  2012-10-01     70.0\n",
       "4  2012-10-01     70.0"
      ]
     },
     "execution_count": 22,
     "metadata": {},
     "output_type": "execute_result"
    }
   ],
   "source": [
    "humidity=pd.read_csv(\"/Users/rudranibhadra/Downloads/historical-hourly-weather-data/humidity.csv\")\n",
    "humidity['datetime'] = pd.to_datetime(humidity['datetime'])\n",
    "humidity['date'] = humidity['datetime'].dt.date\n",
    "#humidity.head()\n",
    "chi_humidity=humidity.loc[:,[\"date\",\"Chicago\"]]\n",
    "chi_humidity.head()"
   ]
  },
  {
   "cell_type": "code",
   "execution_count": 23,
   "metadata": {},
   "outputs": [
    {
     "data": {
      "text/html": [
       "<div>\n",
       "<style scoped>\n",
       "    .dataframe tbody tr th:only-of-type {\n",
       "        vertical-align: middle;\n",
       "    }\n",
       "\n",
       "    .dataframe tbody tr th {\n",
       "        vertical-align: top;\n",
       "    }\n",
       "\n",
       "    .dataframe thead th {\n",
       "        text-align: right;\n",
       "    }\n",
       "</style>\n",
       "<table border=\"1\" class=\"dataframe\">\n",
       "  <thead>\n",
       "    <tr style=\"text-align: right;\">\n",
       "      <th></th>\n",
       "      <th>datetime</th>\n",
       "      <th>Vancouver</th>\n",
       "      <th>Portland</th>\n",
       "      <th>San Francisco</th>\n",
       "      <th>Seattle</th>\n",
       "      <th>Los Angeles</th>\n",
       "      <th>San Diego</th>\n",
       "      <th>Las Vegas</th>\n",
       "      <th>Phoenix</th>\n",
       "      <th>Albuquerque</th>\n",
       "      <th>...</th>\n",
       "      <th>Philadelphia</th>\n",
       "      <th>New York</th>\n",
       "      <th>Montreal</th>\n",
       "      <th>Boston</th>\n",
       "      <th>Beersheba</th>\n",
       "      <th>Tel Aviv District</th>\n",
       "      <th>Eilat</th>\n",
       "      <th>Haifa</th>\n",
       "      <th>Nahariyya</th>\n",
       "      <th>Jerusalem</th>\n",
       "    </tr>\n",
       "  </thead>\n",
       "  <tbody>\n",
       "    <tr>\n",
       "      <th>0</th>\n",
       "      <td>2012-10-01 12:00:00</td>\n",
       "      <td>NaN</td>\n",
       "      <td>NaN</td>\n",
       "      <td>NaN</td>\n",
       "      <td>NaN</td>\n",
       "      <td>NaN</td>\n",
       "      <td>NaN</td>\n",
       "      <td>NaN</td>\n",
       "      <td>NaN</td>\n",
       "      <td>NaN</td>\n",
       "      <td>...</td>\n",
       "      <td>NaN</td>\n",
       "      <td>NaN</td>\n",
       "      <td>NaN</td>\n",
       "      <td>NaN</td>\n",
       "      <td>NaN</td>\n",
       "      <td>NaN</td>\n",
       "      <td>haze</td>\n",
       "      <td>NaN</td>\n",
       "      <td>NaN</td>\n",
       "      <td>NaN</td>\n",
       "    </tr>\n",
       "    <tr>\n",
       "      <th>1</th>\n",
       "      <td>2012-10-01 13:00:00</td>\n",
       "      <td>mist</td>\n",
       "      <td>scattered clouds</td>\n",
       "      <td>light rain</td>\n",
       "      <td>sky is clear</td>\n",
       "      <td>mist</td>\n",
       "      <td>sky is clear</td>\n",
       "      <td>sky is clear</td>\n",
       "      <td>sky is clear</td>\n",
       "      <td>sky is clear</td>\n",
       "      <td>...</td>\n",
       "      <td>broken clouds</td>\n",
       "      <td>few clouds</td>\n",
       "      <td>overcast clouds</td>\n",
       "      <td>sky is clear</td>\n",
       "      <td>sky is clear</td>\n",
       "      <td>sky is clear</td>\n",
       "      <td>haze</td>\n",
       "      <td>sky is clear</td>\n",
       "      <td>sky is clear</td>\n",
       "      <td>sky is clear</td>\n",
       "    </tr>\n",
       "    <tr>\n",
       "      <th>2</th>\n",
       "      <td>2012-10-01 14:00:00</td>\n",
       "      <td>broken clouds</td>\n",
       "      <td>scattered clouds</td>\n",
       "      <td>sky is clear</td>\n",
       "      <td>sky is clear</td>\n",
       "      <td>sky is clear</td>\n",
       "      <td>sky is clear</td>\n",
       "      <td>sky is clear</td>\n",
       "      <td>sky is clear</td>\n",
       "      <td>sky is clear</td>\n",
       "      <td>...</td>\n",
       "      <td>broken clouds</td>\n",
       "      <td>few clouds</td>\n",
       "      <td>sky is clear</td>\n",
       "      <td>few clouds</td>\n",
       "      <td>sky is clear</td>\n",
       "      <td>sky is clear</td>\n",
       "      <td>broken clouds</td>\n",
       "      <td>overcast clouds</td>\n",
       "      <td>sky is clear</td>\n",
       "      <td>overcast clouds</td>\n",
       "    </tr>\n",
       "    <tr>\n",
       "      <th>3</th>\n",
       "      <td>2012-10-01 15:00:00</td>\n",
       "      <td>broken clouds</td>\n",
       "      <td>scattered clouds</td>\n",
       "      <td>sky is clear</td>\n",
       "      <td>sky is clear</td>\n",
       "      <td>sky is clear</td>\n",
       "      <td>sky is clear</td>\n",
       "      <td>sky is clear</td>\n",
       "      <td>sky is clear</td>\n",
       "      <td>sky is clear</td>\n",
       "      <td>...</td>\n",
       "      <td>broken clouds</td>\n",
       "      <td>few clouds</td>\n",
       "      <td>sky is clear</td>\n",
       "      <td>few clouds</td>\n",
       "      <td>overcast clouds</td>\n",
       "      <td>sky is clear</td>\n",
       "      <td>broken clouds</td>\n",
       "      <td>overcast clouds</td>\n",
       "      <td>overcast clouds</td>\n",
       "      <td>overcast clouds</td>\n",
       "    </tr>\n",
       "    <tr>\n",
       "      <th>4</th>\n",
       "      <td>2012-10-01 16:00:00</td>\n",
       "      <td>broken clouds</td>\n",
       "      <td>scattered clouds</td>\n",
       "      <td>sky is clear</td>\n",
       "      <td>sky is clear</td>\n",
       "      <td>sky is clear</td>\n",
       "      <td>sky is clear</td>\n",
       "      <td>sky is clear</td>\n",
       "      <td>sky is clear</td>\n",
       "      <td>sky is clear</td>\n",
       "      <td>...</td>\n",
       "      <td>broken clouds</td>\n",
       "      <td>few clouds</td>\n",
       "      <td>sky is clear</td>\n",
       "      <td>few clouds</td>\n",
       "      <td>overcast clouds</td>\n",
       "      <td>sky is clear</td>\n",
       "      <td>broken clouds</td>\n",
       "      <td>overcast clouds</td>\n",
       "      <td>overcast clouds</td>\n",
       "      <td>overcast clouds</td>\n",
       "    </tr>\n",
       "  </tbody>\n",
       "</table>\n",
       "<p>5 rows × 37 columns</p>\n",
       "</div>"
      ],
      "text/plain": [
       "              datetime      Vancouver          Portland San Francisco  \\\n",
       "0  2012-10-01 12:00:00            NaN               NaN           NaN   \n",
       "1  2012-10-01 13:00:00           mist  scattered clouds    light rain   \n",
       "2  2012-10-01 14:00:00  broken clouds  scattered clouds  sky is clear   \n",
       "3  2012-10-01 15:00:00  broken clouds  scattered clouds  sky is clear   \n",
       "4  2012-10-01 16:00:00  broken clouds  scattered clouds  sky is clear   \n",
       "\n",
       "        Seattle   Los Angeles     San Diego     Las Vegas       Phoenix  \\\n",
       "0           NaN           NaN           NaN           NaN           NaN   \n",
       "1  sky is clear          mist  sky is clear  sky is clear  sky is clear   \n",
       "2  sky is clear  sky is clear  sky is clear  sky is clear  sky is clear   \n",
       "3  sky is clear  sky is clear  sky is clear  sky is clear  sky is clear   \n",
       "4  sky is clear  sky is clear  sky is clear  sky is clear  sky is clear   \n",
       "\n",
       "    Albuquerque  ...   Philadelphia    New York         Montreal  \\\n",
       "0           NaN  ...            NaN         NaN              NaN   \n",
       "1  sky is clear  ...  broken clouds  few clouds  overcast clouds   \n",
       "2  sky is clear  ...  broken clouds  few clouds     sky is clear   \n",
       "3  sky is clear  ...  broken clouds  few clouds     sky is clear   \n",
       "4  sky is clear  ...  broken clouds  few clouds     sky is clear   \n",
       "\n",
       "         Boston        Beersheba Tel Aviv District          Eilat  \\\n",
       "0           NaN              NaN               NaN           haze   \n",
       "1  sky is clear     sky is clear      sky is clear           haze   \n",
       "2    few clouds     sky is clear      sky is clear  broken clouds   \n",
       "3    few clouds  overcast clouds      sky is clear  broken clouds   \n",
       "4    few clouds  overcast clouds      sky is clear  broken clouds   \n",
       "\n",
       "             Haifa        Nahariyya        Jerusalem  \n",
       "0              NaN              NaN              NaN  \n",
       "1     sky is clear     sky is clear     sky is clear  \n",
       "2  overcast clouds     sky is clear  overcast clouds  \n",
       "3  overcast clouds  overcast clouds  overcast clouds  \n",
       "4  overcast clouds  overcast clouds  overcast clouds  \n",
       "\n",
       "[5 rows x 37 columns]"
      ]
     },
     "execution_count": 23,
     "metadata": {},
     "output_type": "execute_result"
    }
   ],
   "source": [
    "weather_description=pd.read_csv(\"/Users/rudranibhadra/Downloads/historical-hourly-weather-data/weather_description.csv\")\n",
    "weather_description.head()"
   ]
  },
  {
   "cell_type": "code",
   "execution_count": 24,
   "metadata": {},
   "outputs": [],
   "source": [
    "chi_humidity['Chicago'] = chi_humidity['Chicago'].fillna(chi_humidity.groupby('date')['Chicago'].transform('mean'))\n",
    "chi_pressure['Chicago'] = chi_pressure['Chicago'].fillna(chi_pressure.groupby('date')['Chicago'].transform('mean'))"
   ]
  },
  {
   "cell_type": "code",
   "execution_count": 46,
   "metadata": {},
   "outputs": [],
   "source": [
    "data1=pd.merge(chi_humidity,data, on='date')"
   ]
  },
  {
   "cell_type": "code",
   "execution_count": 47,
   "metadata": {},
   "outputs": [
    {
     "data": {
      "text/html": [
       "<div>\n",
       "<style scoped>\n",
       "    .dataframe tbody tr th:only-of-type {\n",
       "        vertical-align: middle;\n",
       "    }\n",
       "\n",
       "    .dataframe tbody tr th {\n",
       "        vertical-align: top;\n",
       "    }\n",
       "\n",
       "    .dataframe thead th {\n",
       "        text-align: right;\n",
       "    }\n",
       "</style>\n",
       "<table border=\"1\" class=\"dataframe\">\n",
       "  <thead>\n",
       "    <tr style=\"text-align: right;\">\n",
       "      <th></th>\n",
       "      <th>date</th>\n",
       "      <th>Chicago</th>\n",
       "      <th>Avg Temperature</th>\n",
       "      <th>No of crimes</th>\n",
       "    </tr>\n",
       "  </thead>\n",
       "  <tbody>\n",
       "    <tr>\n",
       "      <th>0</th>\n",
       "      <td>2012-10-01</td>\n",
       "      <td>68.909091</td>\n",
       "      <td>284.552669</td>\n",
       "      <td>1046</td>\n",
       "    </tr>\n",
       "    <tr>\n",
       "      <th>1</th>\n",
       "      <td>2012-10-01</td>\n",
       "      <td>71.000000</td>\n",
       "      <td>284.552669</td>\n",
       "      <td>1046</td>\n",
       "    </tr>\n",
       "    <tr>\n",
       "      <th>2</th>\n",
       "      <td>2012-10-01</td>\n",
       "      <td>70.000000</td>\n",
       "      <td>284.552669</td>\n",
       "      <td>1046</td>\n",
       "    </tr>\n",
       "    <tr>\n",
       "      <th>3</th>\n",
       "      <td>2012-10-01</td>\n",
       "      <td>70.000000</td>\n",
       "      <td>284.552669</td>\n",
       "      <td>1046</td>\n",
       "    </tr>\n",
       "    <tr>\n",
       "      <th>4</th>\n",
       "      <td>2012-10-01</td>\n",
       "      <td>70.000000</td>\n",
       "      <td>284.552669</td>\n",
       "      <td>1046</td>\n",
       "    </tr>\n",
       "  </tbody>\n",
       "</table>\n",
       "</div>"
      ],
      "text/plain": [
       "         date    Chicago  Avg Temperature  No of crimes\n",
       "0  2012-10-01  68.909091       284.552669          1046\n",
       "1  2012-10-01  71.000000       284.552669          1046\n",
       "2  2012-10-01  70.000000       284.552669          1046\n",
       "3  2012-10-01  70.000000       284.552669          1046\n",
       "4  2012-10-01  70.000000       284.552669          1046"
      ]
     },
     "execution_count": 47,
     "metadata": {},
     "output_type": "execute_result"
    }
   ],
   "source": [
    "data1.head()"
   ]
  },
  {
   "cell_type": "code",
   "execution_count": 48,
   "metadata": {},
   "outputs": [],
   "source": [
    "data1.rename(columns={'Chicago': 'Avg Humidity'}, inplace=True)"
   ]
  },
  {
   "cell_type": "code",
   "execution_count": 49,
   "metadata": {},
   "outputs": [],
   "source": [
    "data2=pd.merge(chi_pressure,data1, on='date')"
   ]
  },
  {
   "cell_type": "code",
   "execution_count": 50,
   "metadata": {},
   "outputs": [
    {
     "data": {
      "text/html": [
       "<div>\n",
       "<style scoped>\n",
       "    .dataframe tbody tr th:only-of-type {\n",
       "        vertical-align: middle;\n",
       "    }\n",
       "\n",
       "    .dataframe tbody tr th {\n",
       "        vertical-align: top;\n",
       "    }\n",
       "\n",
       "    .dataframe thead th {\n",
       "        text-align: right;\n",
       "    }\n",
       "</style>\n",
       "<table border=\"1\" class=\"dataframe\">\n",
       "  <thead>\n",
       "    <tr style=\"text-align: right;\">\n",
       "      <th></th>\n",
       "      <th>date</th>\n",
       "      <th>Chicago</th>\n",
       "      <th>Avg Humidity</th>\n",
       "      <th>Avg Temperature</th>\n",
       "      <th>No of crimes</th>\n",
       "    </tr>\n",
       "  </thead>\n",
       "  <tbody>\n",
       "    <tr>\n",
       "      <th>0</th>\n",
       "      <td>2012-10-01</td>\n",
       "      <td>1014.0</td>\n",
       "      <td>68.909091</td>\n",
       "      <td>284.552669</td>\n",
       "      <td>1046</td>\n",
       "    </tr>\n",
       "    <tr>\n",
       "      <th>1</th>\n",
       "      <td>2012-10-01</td>\n",
       "      <td>1014.0</td>\n",
       "      <td>71.000000</td>\n",
       "      <td>284.552669</td>\n",
       "      <td>1046</td>\n",
       "    </tr>\n",
       "    <tr>\n",
       "      <th>2</th>\n",
       "      <td>2012-10-01</td>\n",
       "      <td>1014.0</td>\n",
       "      <td>70.000000</td>\n",
       "      <td>284.552669</td>\n",
       "      <td>1046</td>\n",
       "    </tr>\n",
       "    <tr>\n",
       "      <th>3</th>\n",
       "      <td>2012-10-01</td>\n",
       "      <td>1014.0</td>\n",
       "      <td>70.000000</td>\n",
       "      <td>284.552669</td>\n",
       "      <td>1046</td>\n",
       "    </tr>\n",
       "    <tr>\n",
       "      <th>4</th>\n",
       "      <td>2012-10-01</td>\n",
       "      <td>1014.0</td>\n",
       "      <td>70.000000</td>\n",
       "      <td>284.552669</td>\n",
       "      <td>1046</td>\n",
       "    </tr>\n",
       "  </tbody>\n",
       "</table>\n",
       "</div>"
      ],
      "text/plain": [
       "         date  Chicago  Avg Humidity  Avg Temperature  No of crimes\n",
       "0  2012-10-01   1014.0     68.909091       284.552669          1046\n",
       "1  2012-10-01   1014.0     71.000000       284.552669          1046\n",
       "2  2012-10-01   1014.0     70.000000       284.552669          1046\n",
       "3  2012-10-01   1014.0     70.000000       284.552669          1046\n",
       "4  2012-10-01   1014.0     70.000000       284.552669          1046"
      ]
     },
     "execution_count": 50,
     "metadata": {},
     "output_type": "execute_result"
    }
   ],
   "source": [
    "data2.head()"
   ]
  },
  {
   "cell_type": "code",
   "execution_count": 51,
   "metadata": {},
   "outputs": [],
   "source": [
    "data2.rename(columns={'Chicago': 'Avg Pressure'}, inplace=True)"
   ]
  },
  {
   "cell_type": "code",
   "execution_count": 52,
   "metadata": {},
   "outputs": [
    {
     "data": {
      "text/html": [
       "<div>\n",
       "<style scoped>\n",
       "    .dataframe tbody tr th:only-of-type {\n",
       "        vertical-align: middle;\n",
       "    }\n",
       "\n",
       "    .dataframe tbody tr th {\n",
       "        vertical-align: top;\n",
       "    }\n",
       "\n",
       "    .dataframe thead th {\n",
       "        text-align: right;\n",
       "    }\n",
       "</style>\n",
       "<table border=\"1\" class=\"dataframe\">\n",
       "  <thead>\n",
       "    <tr style=\"text-align: right;\">\n",
       "      <th></th>\n",
       "      <th>date</th>\n",
       "      <th>Chicago</th>\n",
       "    </tr>\n",
       "  </thead>\n",
       "  <tbody>\n",
       "    <tr>\n",
       "      <th>0</th>\n",
       "      <td>2012-10-01</td>\n",
       "      <td>NaN</td>\n",
       "    </tr>\n",
       "    <tr>\n",
       "      <th>1</th>\n",
       "      <td>2012-10-01</td>\n",
       "      <td>overcast clouds</td>\n",
       "    </tr>\n",
       "    <tr>\n",
       "      <th>2</th>\n",
       "      <td>2012-10-01</td>\n",
       "      <td>overcast clouds</td>\n",
       "    </tr>\n",
       "    <tr>\n",
       "      <th>3</th>\n",
       "      <td>2012-10-01</td>\n",
       "      <td>overcast clouds</td>\n",
       "    </tr>\n",
       "    <tr>\n",
       "      <th>4</th>\n",
       "      <td>2012-10-01</td>\n",
       "      <td>overcast clouds</td>\n",
       "    </tr>\n",
       "  </tbody>\n",
       "</table>\n",
       "</div>"
      ],
      "text/plain": [
       "         date          Chicago\n",
       "0  2012-10-01              NaN\n",
       "1  2012-10-01  overcast clouds\n",
       "2  2012-10-01  overcast clouds\n",
       "3  2012-10-01  overcast clouds\n",
       "4  2012-10-01  overcast clouds"
      ]
     },
     "execution_count": 52,
     "metadata": {},
     "output_type": "execute_result"
    }
   ],
   "source": [
    "weather_description=pd.read_csv(\"/Users/rudranibhadra/Downloads/historical-hourly-weather-data/weather_description.csv\")\n",
    "weather_description.head()\n",
    "weather_description['datetime'] = pd.to_datetime(weather_description['datetime'])\n",
    "weather_description['date'] = weather_description['datetime'].dt.date\n",
    "#humidity.head()\n",
    "chi_rain=weather_description.loc[:,[\"date\",\"Chicago\"]]\n",
    "chi_rain.head()"
   ]
  },
  {
   "cell_type": "code",
   "execution_count": 53,
   "metadata": {},
   "outputs": [
    {
     "data": {
      "text/plain": [
       "date       0\n",
       "Chicago    1\n",
       "dtype: int64"
      ]
     },
     "execution_count": 53,
     "metadata": {},
     "output_type": "execute_result"
    }
   ],
   "source": [
    "chi_rain.isnull().sum()"
   ]
  },
  {
   "cell_type": "code",
   "execution_count": 54,
   "metadata": {},
   "outputs": [],
   "source": [
    "chi_rain = chi_rain.dropna(subset=['Chicago'])"
   ]
  },
  {
   "cell_type": "code",
   "execution_count": 55,
   "metadata": {},
   "outputs": [],
   "source": [
    "chi_rain=chi_rain.groupby('date')['Chicago'].agg(lambda x: x.value_counts().index[0]).to_frame().reset_index()"
   ]
  },
  {
   "cell_type": "code",
   "execution_count": 56,
   "metadata": {},
   "outputs": [
    {
     "data": {
      "text/html": [
       "<div>\n",
       "<style scoped>\n",
       "    .dataframe tbody tr th:only-of-type {\n",
       "        vertical-align: middle;\n",
       "    }\n",
       "\n",
       "    .dataframe tbody tr th {\n",
       "        vertical-align: top;\n",
       "    }\n",
       "\n",
       "    .dataframe thead th {\n",
       "        text-align: right;\n",
       "    }\n",
       "</style>\n",
       "<table border=\"1\" class=\"dataframe\">\n",
       "  <thead>\n",
       "    <tr style=\"text-align: right;\">\n",
       "      <th></th>\n",
       "      <th>date</th>\n",
       "      <th>Chicago</th>\n",
       "    </tr>\n",
       "  </thead>\n",
       "  <tbody>\n",
       "    <tr>\n",
       "      <th>0</th>\n",
       "      <td>2012-10-01</td>\n",
       "      <td>overcast clouds</td>\n",
       "    </tr>\n",
       "    <tr>\n",
       "      <th>1</th>\n",
       "      <td>2012-10-02</td>\n",
       "      <td>overcast clouds</td>\n",
       "    </tr>\n",
       "    <tr>\n",
       "      <th>2</th>\n",
       "      <td>2012-10-03</td>\n",
       "      <td>overcast clouds</td>\n",
       "    </tr>\n",
       "    <tr>\n",
       "      <th>3</th>\n",
       "      <td>2012-10-04</td>\n",
       "      <td>mist</td>\n",
       "    </tr>\n",
       "    <tr>\n",
       "      <th>4</th>\n",
       "      <td>2012-10-05</td>\n",
       "      <td>sky is clear</td>\n",
       "    </tr>\n",
       "  </tbody>\n",
       "</table>\n",
       "</div>"
      ],
      "text/plain": [
       "         date          Chicago\n",
       "0  2012-10-01  overcast clouds\n",
       "1  2012-10-02  overcast clouds\n",
       "2  2012-10-03  overcast clouds\n",
       "3  2012-10-04             mist\n",
       "4  2012-10-05     sky is clear"
      ]
     },
     "execution_count": 56,
     "metadata": {},
     "output_type": "execute_result"
    }
   ],
   "source": [
    "chi_rain.head()"
   ]
  },
  {
   "cell_type": "code",
   "execution_count": 57,
   "metadata": {},
   "outputs": [],
   "source": [
    "data3=pd.merge(data2,chi_rain,on='date')"
   ]
  },
  {
   "cell_type": "code",
   "execution_count": 58,
   "metadata": {},
   "outputs": [
    {
     "data": {
      "text/html": [
       "<div>\n",
       "<style scoped>\n",
       "    .dataframe tbody tr th:only-of-type {\n",
       "        vertical-align: middle;\n",
       "    }\n",
       "\n",
       "    .dataframe tbody tr th {\n",
       "        vertical-align: top;\n",
       "    }\n",
       "\n",
       "    .dataframe thead th {\n",
       "        text-align: right;\n",
       "    }\n",
       "</style>\n",
       "<table border=\"1\" class=\"dataframe\">\n",
       "  <thead>\n",
       "    <tr style=\"text-align: right;\">\n",
       "      <th></th>\n",
       "      <th>date</th>\n",
       "      <th>Avg Pressure</th>\n",
       "      <th>Avg Humidity</th>\n",
       "      <th>Avg Temperature</th>\n",
       "      <th>No of crimes</th>\n",
       "      <th>Chicago</th>\n",
       "    </tr>\n",
       "  </thead>\n",
       "  <tbody>\n",
       "    <tr>\n",
       "      <th>0</th>\n",
       "      <td>2012-10-01</td>\n",
       "      <td>1014.0</td>\n",
       "      <td>68.909091</td>\n",
       "      <td>284.552669</td>\n",
       "      <td>1046</td>\n",
       "      <td>overcast clouds</td>\n",
       "    </tr>\n",
       "    <tr>\n",
       "      <th>1</th>\n",
       "      <td>2012-10-01</td>\n",
       "      <td>1014.0</td>\n",
       "      <td>71.000000</td>\n",
       "      <td>284.552669</td>\n",
       "      <td>1046</td>\n",
       "      <td>overcast clouds</td>\n",
       "    </tr>\n",
       "    <tr>\n",
       "      <th>2</th>\n",
       "      <td>2012-10-01</td>\n",
       "      <td>1014.0</td>\n",
       "      <td>70.000000</td>\n",
       "      <td>284.552669</td>\n",
       "      <td>1046</td>\n",
       "      <td>overcast clouds</td>\n",
       "    </tr>\n",
       "    <tr>\n",
       "      <th>3</th>\n",
       "      <td>2012-10-01</td>\n",
       "      <td>1014.0</td>\n",
       "      <td>70.000000</td>\n",
       "      <td>284.552669</td>\n",
       "      <td>1046</td>\n",
       "      <td>overcast clouds</td>\n",
       "    </tr>\n",
       "    <tr>\n",
       "      <th>4</th>\n",
       "      <td>2012-10-01</td>\n",
       "      <td>1014.0</td>\n",
       "      <td>70.000000</td>\n",
       "      <td>284.552669</td>\n",
       "      <td>1046</td>\n",
       "      <td>overcast clouds</td>\n",
       "    </tr>\n",
       "  </tbody>\n",
       "</table>\n",
       "</div>"
      ],
      "text/plain": [
       "         date  Avg Pressure  Avg Humidity  Avg Temperature  No of crimes  \\\n",
       "0  2012-10-01        1014.0     68.909091       284.552669          1046   \n",
       "1  2012-10-01        1014.0     71.000000       284.552669          1046   \n",
       "2  2012-10-01        1014.0     70.000000       284.552669          1046   \n",
       "3  2012-10-01        1014.0     70.000000       284.552669          1046   \n",
       "4  2012-10-01        1014.0     70.000000       284.552669          1046   \n",
       "\n",
       "           Chicago  \n",
       "0  overcast clouds  \n",
       "1  overcast clouds  \n",
       "2  overcast clouds  \n",
       "3  overcast clouds  \n",
       "4  overcast clouds  "
      ]
     },
     "execution_count": 58,
     "metadata": {},
     "output_type": "execute_result"
    }
   ],
   "source": [
    "data3.head()"
   ]
  },
  {
   "cell_type": "code",
   "execution_count": 59,
   "metadata": {},
   "outputs": [],
   "source": [
    "data3.rename(columns={'Chicago': 'weather description'}, inplace=True)"
   ]
  },
  {
   "cell_type": "code",
   "execution_count": 60,
   "metadata": {},
   "outputs": [],
   "source": [
    "data3=data3[['date','Avg Temperature','Avg Humidity','Avg Pressure','weather description','No of crimes']]"
   ]
  },
  {
   "cell_type": "code",
   "execution_count": 61,
   "metadata": {},
   "outputs": [
    {
     "name": "stdout",
     "output_type": "stream",
     "text": [
      "<class 'pandas.core.frame.DataFrame'>\n",
      "Int64Index: 903312 entries, 0 to 903311\n",
      "Data columns (total 6 columns):\n",
      "date                   903312 non-null object\n",
      "Avg Temperature        903312 non-null float64\n",
      "Avg Humidity           903312 non-null float64\n",
      "Avg Pressure           903312 non-null float64\n",
      "weather description    903312 non-null object\n",
      "No of crimes           903312 non-null int64\n",
      "dtypes: float64(3), int64(1), object(2)\n",
      "memory usage: 48.2+ MB\n"
     ]
    }
   ],
   "source": [
    "data3.info()"
   ]
  },
  {
   "cell_type": "code",
   "execution_count": 62,
   "metadata": {},
   "outputs": [
    {
     "data": {
      "text/plain": [
       "date                   0\n",
       "Avg Temperature        0\n",
       "Avg Humidity           0\n",
       "Avg Pressure           0\n",
       "weather description    0\n",
       "No of crimes           0\n",
       "dtype: int64"
      ]
     },
     "execution_count": 62,
     "metadata": {},
     "output_type": "execute_result"
    }
   ],
   "source": [
    "data3.isnull().sum()"
   ]
  },
  {
   "cell_type": "code",
   "execution_count": 42,
   "metadata": {},
   "outputs": [
    {
     "data": {
      "text/plain": [
       "date        0\n",
       "Chicago    48\n",
       "dtype: int64"
      ]
     },
     "execution_count": 42,
     "metadata": {},
     "output_type": "execute_result"
    }
   ],
   "source": [
    "chi_humidity.isnull().sum()"
   ]
  },
  {
   "cell_type": "code",
   "execution_count": 43,
   "metadata": {},
   "outputs": [
    {
     "data": {
      "text/plain": [
       "date        0\n",
       "Chicago    24\n",
       "dtype: int64"
      ]
     },
     "execution_count": 43,
     "metadata": {},
     "output_type": "execute_result"
    }
   ],
   "source": [
    "chi_pressure.isnull().sum()"
   ]
  },
  {
   "cell_type": "code",
   "execution_count": 10,
   "metadata": {},
   "outputs": [
    {
     "data": {
      "text/html": [
       "<div>\n",
       "<style scoped>\n",
       "    .dataframe tbody tr th:only-of-type {\n",
       "        vertical-align: middle;\n",
       "    }\n",
       "\n",
       "    .dataframe tbody tr th {\n",
       "        vertical-align: top;\n",
       "    }\n",
       "\n",
       "    .dataframe thead th {\n",
       "        text-align: right;\n",
       "    }\n",
       "</style>\n",
       "<table border=\"1\" class=\"dataframe\">\n",
       "  <thead>\n",
       "    <tr style=\"text-align: right;\">\n",
       "      <th></th>\n",
       "      <th>date</th>\n",
       "      <th>Chicago</th>\n",
       "    </tr>\n",
       "  </thead>\n",
       "  <tbody>\n",
       "    <tr>\n",
       "      <th>0</th>\n",
       "      <td>2012-10-01</td>\n",
       "      <td>68.909091</td>\n",
       "    </tr>\n",
       "    <tr>\n",
       "      <th>1</th>\n",
       "      <td>2012-10-01</td>\n",
       "      <td>71.000000</td>\n",
       "    </tr>\n",
       "    <tr>\n",
       "      <th>2</th>\n",
       "      <td>2012-10-01</td>\n",
       "      <td>70.000000</td>\n",
       "    </tr>\n",
       "    <tr>\n",
       "      <th>3</th>\n",
       "      <td>2012-10-01</td>\n",
       "      <td>70.000000</td>\n",
       "    </tr>\n",
       "    <tr>\n",
       "      <th>4</th>\n",
       "      <td>2012-10-01</td>\n",
       "      <td>70.000000</td>\n",
       "    </tr>\n",
       "    <tr>\n",
       "      <th>5</th>\n",
       "      <td>2012-10-01</td>\n",
       "      <td>69.000000</td>\n",
       "    </tr>\n",
       "    <tr>\n",
       "      <th>6</th>\n",
       "      <td>2012-10-01</td>\n",
       "      <td>69.000000</td>\n",
       "    </tr>\n",
       "    <tr>\n",
       "      <th>7</th>\n",
       "      <td>2012-10-01</td>\n",
       "      <td>69.000000</td>\n",
       "    </tr>\n",
       "    <tr>\n",
       "      <th>8</th>\n",
       "      <td>2012-10-01</td>\n",
       "      <td>68.000000</td>\n",
       "    </tr>\n",
       "    <tr>\n",
       "      <th>9</th>\n",
       "      <td>2012-10-01</td>\n",
       "      <td>68.000000</td>\n",
       "    </tr>\n",
       "    <tr>\n",
       "      <th>10</th>\n",
       "      <td>2012-10-01</td>\n",
       "      <td>67.000000</td>\n",
       "    </tr>\n",
       "    <tr>\n",
       "      <th>11</th>\n",
       "      <td>2012-10-01</td>\n",
       "      <td>67.000000</td>\n",
       "    </tr>\n",
       "    <tr>\n",
       "      <th>12</th>\n",
       "      <td>2012-10-02</td>\n",
       "      <td>67.000000</td>\n",
       "    </tr>\n",
       "    <tr>\n",
       "      <th>13</th>\n",
       "      <td>2012-10-02</td>\n",
       "      <td>66.000000</td>\n",
       "    </tr>\n",
       "    <tr>\n",
       "      <th>14</th>\n",
       "      <td>2012-10-02</td>\n",
       "      <td>66.000000</td>\n",
       "    </tr>\n",
       "    <tr>\n",
       "      <th>15</th>\n",
       "      <td>2012-10-02</td>\n",
       "      <td>66.000000</td>\n",
       "    </tr>\n",
       "    <tr>\n",
       "      <th>16</th>\n",
       "      <td>2012-10-02</td>\n",
       "      <td>65.000000</td>\n",
       "    </tr>\n",
       "    <tr>\n",
       "      <th>17</th>\n",
       "      <td>2012-10-02</td>\n",
       "      <td>65.000000</td>\n",
       "    </tr>\n",
       "    <tr>\n",
       "      <th>18</th>\n",
       "      <td>2012-10-02</td>\n",
       "      <td>64.000000</td>\n",
       "    </tr>\n",
       "    <tr>\n",
       "      <th>19</th>\n",
       "      <td>2012-10-02</td>\n",
       "      <td>64.000000</td>\n",
       "    </tr>\n",
       "    <tr>\n",
       "      <th>20</th>\n",
       "      <td>2012-10-02</td>\n",
       "      <td>64.000000</td>\n",
       "    </tr>\n",
       "    <tr>\n",
       "      <th>21</th>\n",
       "      <td>2012-10-02</td>\n",
       "      <td>63.000000</td>\n",
       "    </tr>\n",
       "    <tr>\n",
       "      <th>22</th>\n",
       "      <td>2012-10-02</td>\n",
       "      <td>63.000000</td>\n",
       "    </tr>\n",
       "    <tr>\n",
       "      <th>23</th>\n",
       "      <td>2012-10-02</td>\n",
       "      <td>63.000000</td>\n",
       "    </tr>\n",
       "    <tr>\n",
       "      <th>24</th>\n",
       "      <td>2012-10-02</td>\n",
       "      <td>62.000000</td>\n",
       "    </tr>\n",
       "    <tr>\n",
       "      <th>25</th>\n",
       "      <td>2012-10-02</td>\n",
       "      <td>62.000000</td>\n",
       "    </tr>\n",
       "    <tr>\n",
       "      <th>26</th>\n",
       "      <td>2012-10-02</td>\n",
       "      <td>62.000000</td>\n",
       "    </tr>\n",
       "    <tr>\n",
       "      <th>27</th>\n",
       "      <td>2012-10-02</td>\n",
       "      <td>51.000000</td>\n",
       "    </tr>\n",
       "    <tr>\n",
       "      <th>28</th>\n",
       "      <td>2012-10-02</td>\n",
       "      <td>60.578947</td>\n",
       "    </tr>\n",
       "    <tr>\n",
       "      <th>29</th>\n",
       "      <td>2012-10-02</td>\n",
       "      <td>60.578947</td>\n",
       "    </tr>\n",
       "    <tr>\n",
       "      <th>...</th>\n",
       "      <td>...</td>\n",
       "      <td>...</td>\n",
       "    </tr>\n",
       "    <tr>\n",
       "      <th>45223</th>\n",
       "      <td>2017-11-28</td>\n",
       "      <td>48.000000</td>\n",
       "    </tr>\n",
       "    <tr>\n",
       "      <th>45224</th>\n",
       "      <td>2017-11-28</td>\n",
       "      <td>48.000000</td>\n",
       "    </tr>\n",
       "    <tr>\n",
       "      <th>45225</th>\n",
       "      <td>2017-11-28</td>\n",
       "      <td>34.000000</td>\n",
       "    </tr>\n",
       "    <tr>\n",
       "      <th>45226</th>\n",
       "      <td>2017-11-28</td>\n",
       "      <td>36.000000</td>\n",
       "    </tr>\n",
       "    <tr>\n",
       "      <th>45227</th>\n",
       "      <td>2017-11-28</td>\n",
       "      <td>36.000000</td>\n",
       "    </tr>\n",
       "    <tr>\n",
       "      <th>45228</th>\n",
       "      <td>2017-11-29</td>\n",
       "      <td>54.000000</td>\n",
       "    </tr>\n",
       "    <tr>\n",
       "      <th>45229</th>\n",
       "      <td>2017-11-29</td>\n",
       "      <td>54.000000</td>\n",
       "    </tr>\n",
       "    <tr>\n",
       "      <th>45230</th>\n",
       "      <td>2017-11-29</td>\n",
       "      <td>71.000000</td>\n",
       "    </tr>\n",
       "    <tr>\n",
       "      <th>45231</th>\n",
       "      <td>2017-11-29</td>\n",
       "      <td>76.000000</td>\n",
       "    </tr>\n",
       "    <tr>\n",
       "      <th>45232</th>\n",
       "      <td>2017-11-29</td>\n",
       "      <td>92.000000</td>\n",
       "    </tr>\n",
       "    <tr>\n",
       "      <th>45233</th>\n",
       "      <td>2017-11-29</td>\n",
       "      <td>42.000000</td>\n",
       "    </tr>\n",
       "    <tr>\n",
       "      <th>45234</th>\n",
       "      <td>2017-11-29</td>\n",
       "      <td>42.000000</td>\n",
       "    </tr>\n",
       "    <tr>\n",
       "      <th>45235</th>\n",
       "      <td>2017-11-29</td>\n",
       "      <td>39.000000</td>\n",
       "    </tr>\n",
       "    <tr>\n",
       "      <th>45236</th>\n",
       "      <td>2017-11-29</td>\n",
       "      <td>35.000000</td>\n",
       "    </tr>\n",
       "    <tr>\n",
       "      <th>45237</th>\n",
       "      <td>2017-11-29</td>\n",
       "      <td>44.000000</td>\n",
       "    </tr>\n",
       "    <tr>\n",
       "      <th>45238</th>\n",
       "      <td>2017-11-29</td>\n",
       "      <td>64.000000</td>\n",
       "    </tr>\n",
       "    <tr>\n",
       "      <th>45239</th>\n",
       "      <td>2017-11-29</td>\n",
       "      <td>79.000000</td>\n",
       "    </tr>\n",
       "    <tr>\n",
       "      <th>45240</th>\n",
       "      <td>2017-11-29</td>\n",
       "      <td>80.000000</td>\n",
       "    </tr>\n",
       "    <tr>\n",
       "      <th>45241</th>\n",
       "      <td>2017-11-29</td>\n",
       "      <td>52.000000</td>\n",
       "    </tr>\n",
       "    <tr>\n",
       "      <th>45242</th>\n",
       "      <td>2017-11-29</td>\n",
       "      <td>86.000000</td>\n",
       "    </tr>\n",
       "    <tr>\n",
       "      <th>45243</th>\n",
       "      <td>2017-11-29</td>\n",
       "      <td>100.000000</td>\n",
       "    </tr>\n",
       "    <tr>\n",
       "      <th>45244</th>\n",
       "      <td>2017-11-29</td>\n",
       "      <td>49.000000</td>\n",
       "    </tr>\n",
       "    <tr>\n",
       "      <th>45245</th>\n",
       "      <td>2017-11-29</td>\n",
       "      <td>49.000000</td>\n",
       "    </tr>\n",
       "    <tr>\n",
       "      <th>45246</th>\n",
       "      <td>2017-11-29</td>\n",
       "      <td>52.000000</td>\n",
       "    </tr>\n",
       "    <tr>\n",
       "      <th>45247</th>\n",
       "      <td>2017-11-29</td>\n",
       "      <td>97.000000</td>\n",
       "    </tr>\n",
       "    <tr>\n",
       "      <th>45248</th>\n",
       "      <td>2017-11-29</td>\n",
       "      <td>52.000000</td>\n",
       "    </tr>\n",
       "    <tr>\n",
       "      <th>45249</th>\n",
       "      <td>2017-11-29</td>\n",
       "      <td>65.000000</td>\n",
       "    </tr>\n",
       "    <tr>\n",
       "      <th>45250</th>\n",
       "      <td>2017-11-29</td>\n",
       "      <td>96.000000</td>\n",
       "    </tr>\n",
       "    <tr>\n",
       "      <th>45251</th>\n",
       "      <td>2017-11-29</td>\n",
       "      <td>75.000000</td>\n",
       "    </tr>\n",
       "    <tr>\n",
       "      <th>45252</th>\n",
       "      <td>2017-11-30</td>\n",
       "      <td>86.000000</td>\n",
       "    </tr>\n",
       "  </tbody>\n",
       "</table>\n",
       "<p>45253 rows × 2 columns</p>\n",
       "</div>"
      ],
      "text/plain": [
       "             date     Chicago\n",
       "0      2012-10-01   68.909091\n",
       "1      2012-10-01   71.000000\n",
       "2      2012-10-01   70.000000\n",
       "3      2012-10-01   70.000000\n",
       "4      2012-10-01   70.000000\n",
       "5      2012-10-01   69.000000\n",
       "6      2012-10-01   69.000000\n",
       "7      2012-10-01   69.000000\n",
       "8      2012-10-01   68.000000\n",
       "9      2012-10-01   68.000000\n",
       "10     2012-10-01   67.000000\n",
       "11     2012-10-01   67.000000\n",
       "12     2012-10-02   67.000000\n",
       "13     2012-10-02   66.000000\n",
       "14     2012-10-02   66.000000\n",
       "15     2012-10-02   66.000000\n",
       "16     2012-10-02   65.000000\n",
       "17     2012-10-02   65.000000\n",
       "18     2012-10-02   64.000000\n",
       "19     2012-10-02   64.000000\n",
       "20     2012-10-02   64.000000\n",
       "21     2012-10-02   63.000000\n",
       "22     2012-10-02   63.000000\n",
       "23     2012-10-02   63.000000\n",
       "24     2012-10-02   62.000000\n",
       "25     2012-10-02   62.000000\n",
       "26     2012-10-02   62.000000\n",
       "27     2012-10-02   51.000000\n",
       "28     2012-10-02   60.578947\n",
       "29     2012-10-02   60.578947\n",
       "...           ...         ...\n",
       "45223  2017-11-28   48.000000\n",
       "45224  2017-11-28   48.000000\n",
       "45225  2017-11-28   34.000000\n",
       "45226  2017-11-28   36.000000\n",
       "45227  2017-11-28   36.000000\n",
       "45228  2017-11-29   54.000000\n",
       "45229  2017-11-29   54.000000\n",
       "45230  2017-11-29   71.000000\n",
       "45231  2017-11-29   76.000000\n",
       "45232  2017-11-29   92.000000\n",
       "45233  2017-11-29   42.000000\n",
       "45234  2017-11-29   42.000000\n",
       "45235  2017-11-29   39.000000\n",
       "45236  2017-11-29   35.000000\n",
       "45237  2017-11-29   44.000000\n",
       "45238  2017-11-29   64.000000\n",
       "45239  2017-11-29   79.000000\n",
       "45240  2017-11-29   80.000000\n",
       "45241  2017-11-29   52.000000\n",
       "45242  2017-11-29   86.000000\n",
       "45243  2017-11-29  100.000000\n",
       "45244  2017-11-29   49.000000\n",
       "45245  2017-11-29   49.000000\n",
       "45246  2017-11-29   52.000000\n",
       "45247  2017-11-29   97.000000\n",
       "45248  2017-11-29   52.000000\n",
       "45249  2017-11-29   65.000000\n",
       "45250  2017-11-29   96.000000\n",
       "45251  2017-11-29   75.000000\n",
       "45252  2017-11-30   86.000000\n",
       "\n",
       "[45253 rows x 2 columns]"
      ]
     },
     "execution_count": 10,
     "metadata": {},
     "output_type": "execute_result"
    }
   ],
   "source": [
    "chi_humidity"
   ]
  },
  {
   "cell_type": "code",
   "execution_count": 44,
   "metadata": {},
   "outputs": [],
   "source": [
    "chi_humidity =chi_humidity.dropna(subset=['Chicago'])\n",
    "chi_pressure =chi_pressure.dropna(subset=['Chicago'])"
   ]
  },
  {
   "cell_type": "code",
   "execution_count": 45,
   "metadata": {},
   "outputs": [
    {
     "data": {
      "text/plain": [
       "date       0\n",
       "Chicago    0\n",
       "dtype: int64"
      ]
     },
     "execution_count": 45,
     "metadata": {},
     "output_type": "execute_result"
    }
   ],
   "source": [
    "chi_pressure.isnull().sum()"
   ]
  },
  {
   "cell_type": "code",
   "execution_count": 67,
   "metadata": {},
   "outputs": [],
   "source": [
    "def f(x):\n",
    "    x = x-273.15\n",
    "    return float(x)\n",
    "\n",
    "data3['Avg Temperature']=data3['Avg Temperature'].apply(f)"
   ]
  },
  {
   "cell_type": "code",
   "execution_count": 76,
   "metadata": {},
   "outputs": [
    {
     "data": {
      "image/png": "[encoded data removed]",
      "text/plain": [
       "<Figure size 432x288 with 1 Axes>"
      ]
     },
     "metadata": {},
     "output_type": "display_data"
    }
   ],
   "source": [
    "sns.set(color_codes=True)\n",
    "plt.scatter(data3['Avg Temperature'],data3['No of crimes'],color='b',alpha=0.01)\n",
    "plt.xlabel('Avg Temperature')\n",
    "plt.ylabel('No of crimes')\n",
    "plt.show()"
   ]
  },
  {
   "cell_type": "code",
   "execution_count": 77,
   "metadata": {},
   "outputs": [
    {
     "data": {
      "image/png": "[encoded data removed]",
      "text/plain": [
       "<Figure size 432x288 with 1 Axes>"
      ]
     },
     "metadata": {},
     "output_type": "display_data"
    }
   ],
   "source": [
    "plt.scatter(data3['Avg Humidity'],data3['No of crimes'],color='r',alpha=0.01)\n",
    "plt.xlabel('Avg Humidity')\n",
    "plt.ylabel('No of crimes')\n",
    "plt.show()"
   ]
  },
  {
   "cell_type": "code",
   "execution_count": 75,
   "metadata": {},
   "outputs": [
    {
     "data": {
      "image/png": "[encoded data removed]",
      "text/plain": [
       "<Figure size 432x288 with 1 Axes>"
      ]
     },
     "metadata": {},
     "output_type": "display_data"
    }
   ],
   "source": [
    "plt.scatter(data3['Avg Pressure'],data3['No of crimes'],color='g',alpha=0.01)\n",
    "plt.xlabel('Avg Pressure')\n",
    "plt.ylabel('No of crimes')\n",
    "plt.show()"
   ]
  },
  {
   "cell_type": "code",
   "execution_count": 78,
   "metadata": {},
   "outputs": [
    {
     "data": {
      "image/png": "[encoded data removed]",
      "text/plain": [
       "<Figure size 432x288 with 1 Axes>"
      ]
     },
     "metadata": {},
     "output_type": "display_data"
    }
   ],
   "source": [
    "plt.scatter(data3['weather description'],data3['No of crimes'],color='y',alpha=0.01)\n",
    "plt.xlabel('weather')\n",
    "plt.ylabel('No of crimes')\n",
    "plt.xticks(rotation=90)\n",
    "plt.show()"
   ]
  },
  {
   "cell_type": "code",
   "execution_count": 79,
   "metadata": {},
   "outputs": [
    {
     "data": {
      "text/plain": [
       "<matplotlib.axes._subplots.AxesSubplot at 0x1a28b311d0>"
      ]
     },
     "execution_count": 79,
     "metadata": {},
     "output_type": "execute_result"
    },
    {
     "data": {
      "image/png": "[encoded data removed]",
      "text/plain": [
       "<Figure size 432x288 with 1 Axes>"
      ]
     },
     "metadata": {},
     "output_type": "display_data"
    }
   ],
   "source": [
    "data3['date'] = pd.to_datetime(data3['date'])\n",
    "ch = data3[(data3['date'].dt.month == 12) & (data3['date'].dt.day.isin([24,25,26,27,28,29,30,31]))]\n",
    "sns.set(color_codes=True)\n",
    "sns.regplot(data3['Avg Temperature'], data3['No of crimes'], color='b')\n",
    "sns.regplot(ch['Avg Temperature'],ch['No of crimes'],color='r')"
   ]
  },
  {
   "cell_type": "code",
   "execution_count": 62,
   "metadata": {},
   "outputs": [
    {
     "name": "stdout",
     "output_type": "stream",
     "text": [
      "<class 'pandas.core.frame.DataFrame'>\n",
      "Int64Index: 903312 entries, 0 to 903311\n",
      "Data columns (total 6 columns):\n",
      "date                   903312 non-null object\n",
      "Avg Temperature        903312 non-null float64\n",
      "Avg Humidity           903312 non-null float64\n",
      "Avg Pressure           903312 non-null float64\n",
      "weather description    903312 non-null object\n",
      "No of crimes           903312 non-null int64\n",
      "dtypes: float64(3), int64(1), object(2)\n",
      "memory usage: 48.2+ MB\n"
     ]
    }
   ],
   "source": [
    "data3.info()"
   ]
  },
  {
   "cell_type": "code",
   "execution_count": 63,
   "metadata": {},
   "outputs": [],
   "source": [
    "data3['date'] = pd.to_datetime(data3['date'])"
   ]
  },
  {
   "cell_type": "code",
   "execution_count": 80,
   "metadata": {},
   "outputs": [
    {
     "data": {
      "text/plain": [
       "<matplotlib.axes._subplots.AxesSubplot at 0x1a2760fbe0>"
      ]
     },
     "execution_count": 80,
     "metadata": {},
     "output_type": "execute_result"
    },
    {
     "data": {
      "image/png": "[encoded data removed]",
      "text/plain": [
       "<Figure size 432x288 with 1 Axes>"
      ]
     },
     "metadata": {},
     "output_type": "display_data"
    }
   ],
   "source": [
    "sns.set(color_codes=True)\n",
    "sns.regplot(data3['Avg Humidity'], data3['No of crimes'], color='g')\n",
    "sns.regplot(ch['Avg Humidity'],ch['No of crimes'],color='r')"
   ]
  },
  {
   "cell_type": "code",
   "execution_count": 67,
   "metadata": {},
   "outputs": [
    {
     "data": {
      "text/plain": [
       "<matplotlib.axes._subplots.AxesSubplot at 0x1a23353c88>"
      ]
     },
     "execution_count": 67,
     "metadata": {},
     "output_type": "execute_result"
    },
    {
     "data": {
      "image/png": "[encoded data removed]",
      "text/plain": [
       "<Figure size 432x288 with 1 Axes>"
      ]
     },
     "metadata": {},
     "output_type": "display_data"
    }
   ],
   "source": [
    "sns.set(color_codes=True)\n",
    "sns.regplot(data3['Avg Pressure'], data3['No of crimes'], color='y')\n",
    "sns.regplot(ch['Avg Pressure'],ch['No of crimes'],color='r')"
   ]
  },
  {
   "cell_type": "code",
   "execution_count": 81,
   "metadata": {},
   "outputs": [],
   "source": [
    "#x_test = x_test.drop(['date'], axis=1)\n",
    "#x_train = x_train.drop(['date'], axis=1)\n",
    "from sklearn.model_selection import train_test_split\n",
    "#data3.head()\n",
    "from sklearn import preprocessing\n",
    "\n",
    "# min_max_scaler = preprocessing.MinMaxScaler()\n",
    "X=pd.DataFrame(data3[['Avg Temperature','Avg Humidity','Avg Pressure']])\n",
    "#x_scaled = min_max_scaler.fit_transform(X)\n",
    "#x_new = pd.DataFrame(x_scaled)\n",
    "y=pd.DataFrame(data3.iloc[:,5])\n",
    "#x_new.head()\n",
    "#plt.plot(x_new)\n",
    "X_train, X_test, y_train, y_test = train_test_split(X, y, test_size=0.2, random_state = 2)\n",
    "X_train.head()\n",
    "# data3.info()\n",
    "X_train1=pd.DataFrame(X_train['Avg Temperature'])\n",
    "X_test1=pd.DataFrame(X_test['Avg Temperature'])\n",
    "X_train2=pd.DataFrame(X_train['Avg Humidity'])\n",
    "X_test2=pd.DataFrame(X_test['Avg Humidity'])\n",
    "X_train3=pd.DataFrame(X_train['Avg Pressure'])\n",
    "X_test3=pd.DataFrame(X_test['Avg Pressure'])"
   ]
  },
  {
   "cell_type": "code",
   "execution_count": 97,
   "metadata": {},
   "outputs": [
    {
     "name": "stdout",
     "output_type": "stream",
     "text": [
      "[708.8620319]\n",
      "[[5.73517507]]\n"
     ]
    },
    {
     "data": {
      "image/png": "[encoded data removed]",
      "text/plain": [
       "<Figure size 432x288 with 1 Axes>"
      ]
     },
     "metadata": {},
     "output_type": "display_data"
    }
   ],
   "source": [
    "lr=LinearRegression()\n",
    "\n",
    "lr.fit(X_train1, y_train)\n",
    "prediction=lr.predict(np.sort(X_train1, axis=0))\n",
    "\n",
    "y_pred = lr.predict(X_test1)\n",
    "print(lr.intercept_)\n",
    "print(lr.coef_)\n",
    "# plt.title('Comparison of Y values in test and the Predicted values')\n",
    "# plt.ylabel('Test Set')\n",
    "# plt.xlabel('Predicted values')\n",
    "# plt.scatter(y_pred, y_test,  color='black')\n",
    "plt.scatter(X_test1, y_test,  color='black',alpha=0.7,s=3)\n",
    "plt.scatter(X_test1, y_pred, color='r',alpha=1,s=3)\n",
    "plt.ylabel('No of crimes')\n",
    "plt.show()\n"
   ]
  },
  {
   "cell_type": "code",
   "execution_count": 96,
   "metadata": {},
   "outputs": [
    {
     "name": "stdout",
     "output_type": "stream",
     "text": [
      "[843.9715377]\n",
      "[[-1.07229148]]\n"
     ]
    },
    {
     "data": {
      "image/png": "[encoded data removed]",
      "text/plain": [
       "<Figure size 432x288 with 1 Axes>"
      ]
     },
     "metadata": {},
     "output_type": "display_data"
    }
   ],
   "source": [
    "lr=LinearRegression()\n",
    "\n",
    "lr.fit(X_train2, y_train)\n",
    "prediction=lr.predict(np.sort(X_train2, axis=0))\n",
    "\n",
    "y_pred = lr.predict(X_test2)\n",
    "print(lr.intercept_)\n",
    "print(lr.coef_)\n",
    "# plt.title('Comparison of Y values in test and the Predicted values')\n",
    "# plt.ylabel('Test Set')\n",
    "# plt.xlabel('Predicted values')\n",
    "# plt.scatter(y_pred, y_test,  color='black')\n",
    "plt.scatter(X_test2, y_test,  color='black',alpha=0.7,s=3)\n",
    "plt.scatter(X_test2, y_pred, color='r',alpha=1,s=3)\n",
    "plt.ylabel('No of crimes')\n",
    "plt.show()"
   ]
  },
  {
   "cell_type": "code",
   "execution_count": 95,
   "metadata": {},
   "outputs": [
    {
     "name": "stdout",
     "output_type": "stream",
     "text": [
      "[3080.45946286]\n",
      "[[-2.27242849]]\n"
     ]
    },
    {
     "data": {
      "image/png": "[encoded data removed]",
      "text/plain": [
       "<Figure size 432x288 with 1 Axes>"
      ]
     },
     "metadata": {},
     "output_type": "display_data"
    }
   ],
   "source": [
    "lr=LinearRegression()\n",
    "\n",
    "lr.fit(X_train3, y_train)\n",
    "prediction=lr.predict(np.sort(X_train3, axis=0))\n",
    "\n",
    "y_pred = lr.predict(X_test3)\n",
    "print(lr.intercept_)\n",
    "print(lr.coef_)\n",
    "# plt.title('Comparison of Y values in test and the Predicted values')\n",
    "# plt.ylabel('Test Set')\n",
    "# plt.xlabel('Predicted values')\n",
    "# plt.scatter(y_pred, y_test,  color='black')\n",
    "plt.scatter(X_test3, y_test,  color='black',alpha=0.7,s=3)\n",
    "plt.scatter(X_test3, y_pred, color='r',alpha=1,s=3)\n",
    "plt.ylabel('No of crimes')\n",
    "plt.show()"
   ]
  },
  {
   "cell_type": "code",
   "execution_count": 85,
   "metadata": {},
   "outputs": [
    {
     "name": "stdout",
     "output_type": "stream",
     "text": [
      "[1099.41391144]\n",
      "[[ 5.49530484 -0.60598647 -0.33630301]]\n"
     ]
    }
   ],
   "source": [
    "lr=LinearRegression()\n",
    "\n",
    "lr.fit(X_train, y_train)\n",
    "prediction=lr.predict(np.sort(X_train, axis=0))\n",
    "\n",
    "y_pred = lr.predict(X_test)\n",
    "print(lr.intercept_)\n",
    "print(lr.coef_)"
   ]
  },
  {
   "cell_type": "code",
   "execution_count": 88,
   "metadata": {},
   "outputs": [
    {
     "data": {
      "text/plain": [
       "array([[659.67893925]])"
      ]
     },
     "execution_count": 88,
     "metadata": {},
     "output_type": "execute_result"
    }
   ],
   "source": [
    "X_new = pd.DataFrame({'Avg Temperature': [-10],'Avg Humidity':[80],'Avg Pressure':[1000]})\n",
    "lr.predict(X_new)"
   ]
  },
  {
   "cell_type": "code",
   "execution_count": 89,
   "metadata": {},
   "outputs": [],
   "source": [
    "#avg no of crimes in summer and winter months\n",
    "#summer\n",
    "sm = data3[(data3['date'].dt.month == 5) | (data3['date'].dt.month == 6) | (data3['date'].dt.month == 7) | (data3['date'].dt.month == 8)]\n",
    "#winter\n",
    "wn = data3[(data3['date'].dt.month == 11) | (data3['date'].dt.month == 12) | (data3['date'].dt.month == 1) | (data3['date'].dt.month == 2)]\n"
   ]
  },
  {
   "cell_type": "code",
   "execution_count": 98,
   "metadata": {},
   "outputs": [
    {
     "name": "stdout",
     "output_type": "stream",
     "text": [
      "The average number of incidents in the winter months in Chicago is: 700.1323792486584\n"
     ]
    },
    {
     "data": {
      "image/png": "[encoded data removed]",
      "text/plain": [
       "<Figure size 432x288 with 1 Axes>"
      ]
     },
     "metadata": {},
     "output_type": "display_data"
    }
   ],
   "source": [
    "plt.scatter(wn['Avg Temperature'], wn['No of crimes'], color='b',alpha=0.5,s=5)\n",
    "plt.xlabel('Winter Temperature')\n",
    "plt.ylabel('No of crimes')\n",
    "print(\"The average number of incidents in the winter months in Chicago is:\", np.mean(wn['No of crimes']))"
   ]
  },
  {
   "cell_type": "code",
   "execution_count": 99,
   "metadata": {},
   "outputs": [
    {
     "name": "stdout",
     "output_type": "stream",
     "text": [
      "The average number of incidents in the summer months in Chicago is: 826.4562118126273\n"
     ]
    },
    {
     "data": {
      "image/png": "[encoded data removed]",
      "text/plain": [
       "<Figure size 432x288 with 1 Axes>"
      ]
     },
     "metadata": {},
     "output_type": "display_data"
    }
   ],
   "source": [
    "plt.scatter(sm['Avg Temperature'], sm['No of crimes'], color='r',alpha=0.5,s=5)\n",
    "plt.xlabel('Summer Temperature')\n",
    "plt.ylabel('No of crimes')\n",
    "print(\"The average number of incidents in the summer months in Chicago is:\", np.mean(sm['No of crimes']))"
   ]
  },
  {
   "cell_type": "code",
   "execution_count": null,
   "metadata": {},
   "outputs": [],
   "source": []
  }
 ],
 "metadata": {
  "kernelspec": {
   "display_name": "Python 3",
   "language": "python",
   "name": "python3"
  },
  "language_info": {
   "codemirror_mode": {
    "name": "ipython",
    "version": 3
   },
   "file_extension": ".py",
   "mimetype": "text/x-python",
   "name": "python",
   "nbconvert_exporter": "python",
   "pygments_lexer": "ipython3",
   "version": "3.7.3"
  }
 },
 "nbformat": 4,
 "nbformat_minor": 2
}
